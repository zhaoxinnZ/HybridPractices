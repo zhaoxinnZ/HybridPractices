{
 "cells": [
  {
   "cell_type": "code",
   "execution_count": 370,
   "outputs": [],
   "source": [
    "import pandas as pd\n",
    "import numpy as np\n",
    "import matplotlib.pyplot as plt\n",
    "import seaborn as sns"
   ],
   "metadata": {
    "collapsed": false,
    "pycharm": {
     "name": "#%%\n"
    }
   }
  },
  {
   "cell_type": "code",
   "execution_count": 371,
   "outputs": [],
   "source": [
    "Data = pd.read_csv(\"train.csv\")"
   ],
   "metadata": {
    "collapsed": false,
    "pycharm": {
     "name": "#%%\n"
    }
   }
  },
  {
   "cell_type": "code",
   "execution_count": 372,
   "outputs": [],
   "source": [
    "Data['datetime'] = pd.to_datetime(Data['datetime'])"
   ],
   "metadata": {
    "collapsed": false,
    "pycharm": {
     "name": "#%%\n"
    }
   }
  },
  {
   "cell_type": "code",
   "execution_count": 373,
   "outputs": [],
   "source": [
    "Data['year'] = Data['datetime'].dt.year\n",
    "Data['month'] = Data['datetime'].dt.month\n",
    "Data['day'] = Data['datetime'].dt.day\n",
    "Data['hour'] = Data['datetime'].dt.hour\n",
    "Data['minute'] = Data['datetime'].dt.minute\n",
    "Data['second'] = Data['datetime'].dt.second\n",
    "\n",
    "Data['dayofweek'] = Data['datetime'].dt.dayofweek"
   ],
   "metadata": {
    "collapsed": false,
    "pycharm": {
     "name": "#%%\n"
    }
   }
  },
  {
   "cell_type": "code",
   "execution_count": 374,
   "outputs": [
    {
     "data": {
      "text/plain": "                 datetime  season  holiday  workingday  weather   temp  \\\n0     2011-01-01 00:00:00       1        0           0        1   9.84   \n1     2011-01-01 01:00:00       1        0           0        1   9.02   \n2     2011-01-01 02:00:00       1        0           0        1   9.02   \n3     2011-01-01 03:00:00       1        0           0        1   9.84   \n4     2011-01-01 04:00:00       1        0           0        1   9.84   \n...                   ...     ...      ...         ...      ...    ...   \n10881 2012-12-19 19:00:00       4        0           1        1  15.58   \n10882 2012-12-19 20:00:00       4        0           1        1  14.76   \n10883 2012-12-19 21:00:00       4        0           1        1  13.94   \n10884 2012-12-19 22:00:00       4        0           1        1  13.94   \n10885 2012-12-19 23:00:00       4        0           1        1  13.12   \n\n        atemp  humidity  windspeed  casual  registered  count  year  month  \\\n0      14.395        81     0.0000       3          13     16  2011      1   \n1      13.635        80     0.0000       8          32     40  2011      1   \n2      13.635        80     0.0000       5          27     32  2011      1   \n3      14.395        75     0.0000       3          10     13  2011      1   \n4      14.395        75     0.0000       0           1      1  2011      1   \n...       ...       ...        ...     ...         ...    ...   ...    ...   \n10881  19.695        50    26.0027       7         329    336  2012     12   \n10882  17.425        57    15.0013      10         231    241  2012     12   \n10883  15.910        61    15.0013       4         164    168  2012     12   \n10884  17.425        61     6.0032      12         117    129  2012     12   \n10885  16.665        66     8.9981       4          84     88  2012     12   \n\n       day  hour  minute  second  dayofweek  \n0        1     0       0       0          5  \n1        1     1       0       0          5  \n2        1     2       0       0          5  \n3        1     3       0       0          5  \n4        1     4       0       0          5  \n...    ...   ...     ...     ...        ...  \n10881   19    19       0       0          2  \n10882   19    20       0       0          2  \n10883   19    21       0       0          2  \n10884   19    22       0       0          2  \n10885   19    23       0       0          2  \n\n[10886 rows x 19 columns]",
      "text/html": "<div>\n<style scoped>\n    .dataframe tbody tr th:only-of-type {\n        vertical-align: middle;\n    }\n\n    .dataframe tbody tr th {\n        vertical-align: top;\n    }\n\n    .dataframe thead th {\n        text-align: right;\n    }\n</style>\n<table border=\"1\" class=\"dataframe\">\n  <thead>\n    <tr style=\"text-align: right;\">\n      <th></th>\n      <th>datetime</th>\n      <th>season</th>\n      <th>holiday</th>\n      <th>workingday</th>\n      <th>weather</th>\n      <th>temp</th>\n      <th>atemp</th>\n      <th>humidity</th>\n      <th>windspeed</th>\n      <th>casual</th>\n      <th>registered</th>\n      <th>count</th>\n      <th>year</th>\n      <th>month</th>\n      <th>day</th>\n      <th>hour</th>\n      <th>minute</th>\n      <th>second</th>\n      <th>dayofweek</th>\n    </tr>\n  </thead>\n  <tbody>\n    <tr>\n      <th>0</th>\n      <td>2011-01-01 00:00:00</td>\n      <td>1</td>\n      <td>0</td>\n      <td>0</td>\n      <td>1</td>\n      <td>9.84</td>\n      <td>14.395</td>\n      <td>81</td>\n      <td>0.0000</td>\n      <td>3</td>\n      <td>13</td>\n      <td>16</td>\n      <td>2011</td>\n      <td>1</td>\n      <td>1</td>\n      <td>0</td>\n      <td>0</td>\n      <td>0</td>\n      <td>5</td>\n    </tr>\n    <tr>\n      <th>1</th>\n      <td>2011-01-01 01:00:00</td>\n      <td>1</td>\n      <td>0</td>\n      <td>0</td>\n      <td>1</td>\n      <td>9.02</td>\n      <td>13.635</td>\n      <td>80</td>\n      <td>0.0000</td>\n      <td>8</td>\n      <td>32</td>\n      <td>40</td>\n      <td>2011</td>\n      <td>1</td>\n      <td>1</td>\n      <td>1</td>\n      <td>0</td>\n      <td>0</td>\n      <td>5</td>\n    </tr>\n    <tr>\n      <th>2</th>\n      <td>2011-01-01 02:00:00</td>\n      <td>1</td>\n      <td>0</td>\n      <td>0</td>\n      <td>1</td>\n      <td>9.02</td>\n      <td>13.635</td>\n      <td>80</td>\n      <td>0.0000</td>\n      <td>5</td>\n      <td>27</td>\n      <td>32</td>\n      <td>2011</td>\n      <td>1</td>\n      <td>1</td>\n      <td>2</td>\n      <td>0</td>\n      <td>0</td>\n      <td>5</td>\n    </tr>\n    <tr>\n      <th>3</th>\n      <td>2011-01-01 03:00:00</td>\n      <td>1</td>\n      <td>0</td>\n      <td>0</td>\n      <td>1</td>\n      <td>9.84</td>\n      <td>14.395</td>\n      <td>75</td>\n      <td>0.0000</td>\n      <td>3</td>\n      <td>10</td>\n      <td>13</td>\n      <td>2011</td>\n      <td>1</td>\n      <td>1</td>\n      <td>3</td>\n      <td>0</td>\n      <td>0</td>\n      <td>5</td>\n    </tr>\n    <tr>\n      <th>4</th>\n      <td>2011-01-01 04:00:00</td>\n      <td>1</td>\n      <td>0</td>\n      <td>0</td>\n      <td>1</td>\n      <td>9.84</td>\n      <td>14.395</td>\n      <td>75</td>\n      <td>0.0000</td>\n      <td>0</td>\n      <td>1</td>\n      <td>1</td>\n      <td>2011</td>\n      <td>1</td>\n      <td>1</td>\n      <td>4</td>\n      <td>0</td>\n      <td>0</td>\n      <td>5</td>\n    </tr>\n    <tr>\n      <th>...</th>\n      <td>...</td>\n      <td>...</td>\n      <td>...</td>\n      <td>...</td>\n      <td>...</td>\n      <td>...</td>\n      <td>...</td>\n      <td>...</td>\n      <td>...</td>\n      <td>...</td>\n      <td>...</td>\n      <td>...</td>\n      <td>...</td>\n      <td>...</td>\n      <td>...</td>\n      <td>...</td>\n      <td>...</td>\n      <td>...</td>\n      <td>...</td>\n    </tr>\n    <tr>\n      <th>10881</th>\n      <td>2012-12-19 19:00:00</td>\n      <td>4</td>\n      <td>0</td>\n      <td>1</td>\n      <td>1</td>\n      <td>15.58</td>\n      <td>19.695</td>\n      <td>50</td>\n      <td>26.0027</td>\n      <td>7</td>\n      <td>329</td>\n      <td>336</td>\n      <td>2012</td>\n      <td>12</td>\n      <td>19</td>\n      <td>19</td>\n      <td>0</td>\n      <td>0</td>\n      <td>2</td>\n    </tr>\n    <tr>\n      <th>10882</th>\n      <td>2012-12-19 20:00:00</td>\n      <td>4</td>\n      <td>0</td>\n      <td>1</td>\n      <td>1</td>\n      <td>14.76</td>\n      <td>17.425</td>\n      <td>57</td>\n      <td>15.0013</td>\n      <td>10</td>\n      <td>231</td>\n      <td>241</td>\n      <td>2012</td>\n      <td>12</td>\n      <td>19</td>\n      <td>20</td>\n      <td>0</td>\n      <td>0</td>\n      <td>2</td>\n    </tr>\n    <tr>\n      <th>10883</th>\n      <td>2012-12-19 21:00:00</td>\n      <td>4</td>\n      <td>0</td>\n      <td>1</td>\n      <td>1</td>\n      <td>13.94</td>\n      <td>15.910</td>\n      <td>61</td>\n      <td>15.0013</td>\n      <td>4</td>\n      <td>164</td>\n      <td>168</td>\n      <td>2012</td>\n      <td>12</td>\n      <td>19</td>\n      <td>21</td>\n      <td>0</td>\n      <td>0</td>\n      <td>2</td>\n    </tr>\n    <tr>\n      <th>10884</th>\n      <td>2012-12-19 22:00:00</td>\n      <td>4</td>\n      <td>0</td>\n      <td>1</td>\n      <td>1</td>\n      <td>13.94</td>\n      <td>17.425</td>\n      <td>61</td>\n      <td>6.0032</td>\n      <td>12</td>\n      <td>117</td>\n      <td>129</td>\n      <td>2012</td>\n      <td>12</td>\n      <td>19</td>\n      <td>22</td>\n      <td>0</td>\n      <td>0</td>\n      <td>2</td>\n    </tr>\n    <tr>\n      <th>10885</th>\n      <td>2012-12-19 23:00:00</td>\n      <td>4</td>\n      <td>0</td>\n      <td>1</td>\n      <td>1</td>\n      <td>13.12</td>\n      <td>16.665</td>\n      <td>66</td>\n      <td>8.9981</td>\n      <td>4</td>\n      <td>84</td>\n      <td>88</td>\n      <td>2012</td>\n      <td>12</td>\n      <td>19</td>\n      <td>23</td>\n      <td>0</td>\n      <td>0</td>\n      <td>2</td>\n    </tr>\n  </tbody>\n</table>\n<p>10886 rows × 19 columns</p>\n</div>"
     },
     "execution_count": 374,
     "metadata": {},
     "output_type": "execute_result"
    }
   ],
   "source": [
    "Data"
   ],
   "metadata": {
    "collapsed": false,
    "pycharm": {
     "name": "#%%\n"
    }
   }
  },
  {
   "cell_type": "code",
   "execution_count": 375,
   "outputs": [
    {
     "data": {
      "text/plain": "Index(['datetime', 'season', 'holiday', 'workingday', 'weather', 'temp',\n       'atemp', 'humidity', 'windspeed', 'casual', 'registered', 'count',\n       'year', 'month', 'day', 'hour', 'minute', 'second', 'dayofweek'],\n      dtype='object')"
     },
     "execution_count": 375,
     "metadata": {},
     "output_type": "execute_result"
    }
   ],
   "source": [
    "Data.keys()"
   ],
   "metadata": {
    "collapsed": false,
    "pycharm": {
     "name": "#%%\n"
    }
   }
  },
  {
   "cell_type": "code",
   "execution_count": 376,
   "outputs": [
    {
     "data": {
      "text/plain": "datetime      0\nseason        0\nholiday       0\nworkingday    0\nweather       0\ntemp          0\natemp         0\nhumidity      0\nwindspeed     0\ncasual        0\nregistered    0\ncount         0\nyear          0\nmonth         0\nday           0\nhour          0\nminute        0\nsecond        0\ndayofweek     0\ndtype: int64"
     },
     "execution_count": 376,
     "metadata": {},
     "output_type": "execute_result"
    }
   ],
   "source": [
    "Data.isnull().sum()"
   ],
   "metadata": {
    "collapsed": false,
    "pycharm": {
     "name": "#%%\n"
    }
   }
  },
  {
   "cell_type": "code",
   "execution_count": 377,
   "outputs": [
    {
     "name": "stdout",
     "output_type": "stream",
     "text": [
      "<class 'pandas.core.frame.DataFrame'>\n",
      "RangeIndex: 10886 entries, 0 to 10885\n",
      "Data columns (total 19 columns):\n",
      " #   Column      Non-Null Count  Dtype         \n",
      "---  ------      --------------  -----         \n",
      " 0   datetime    10886 non-null  datetime64[ns]\n",
      " 1   season      10886 non-null  int64         \n",
      " 2   holiday     10886 non-null  int64         \n",
      " 3   workingday  10886 non-null  int64         \n",
      " 4   weather     10886 non-null  int64         \n",
      " 5   temp        10886 non-null  float64       \n",
      " 6   atemp       10886 non-null  float64       \n",
      " 7   humidity    10886 non-null  int64         \n",
      " 8   windspeed   10886 non-null  float64       \n",
      " 9   casual      10886 non-null  int64         \n",
      " 10  registered  10886 non-null  int64         \n",
      " 11  count       10886 non-null  int64         \n",
      " 12  year        10886 non-null  int64         \n",
      " 13  month       10886 non-null  int64         \n",
      " 14  day         10886 non-null  int64         \n",
      " 15  hour        10886 non-null  int64         \n",
      " 16  minute      10886 non-null  int64         \n",
      " 17  second      10886 non-null  int64         \n",
      " 18  dayofweek   10886 non-null  int64         \n",
      "dtypes: datetime64[ns](1), float64(3), int64(15)\n",
      "memory usage: 1.6 MB\n"
     ]
    }
   ],
   "source": [
    "Data.info()"
   ],
   "metadata": {
    "collapsed": false,
    "pycharm": {
     "name": "#%%\n"
    }
   }
  },
  {
   "cell_type": "code",
   "execution_count": 378,
   "outputs": [],
   "source": [
    "from sklearn.model_selection import train_test_split"
   ],
   "metadata": {
    "collapsed": false,
    "pycharm": {
     "name": "#%%\n"
    }
   }
  },
  {
   "cell_type": "code",
   "execution_count": 379,
   "outputs": [],
   "source": [
    "features = Data[['season', 'holiday', 'workingday', 'weather', 'temp',\n",
    "       'atemp', 'humidity', 'windspeed', 'casual', 'registered',\n",
    "       'year', 'month', 'day', 'hour', 'minute', 'second', 'dayofweek']]\n",
    "target = Data[['count']]"
   ],
   "metadata": {
    "collapsed": false,
    "pycharm": {
     "name": "#%%\n"
    }
   }
  },
  {
   "cell_type": "code",
   "execution_count": 380,
   "outputs": [],
   "source": [
    "train_ratio = 0.6\n",
    "test_ratio = 0.2\n",
    "validation_ratio = 0.2"
   ],
   "metadata": {
    "collapsed": false,
    "pycharm": {
     "name": "#%%\n"
    }
   }
  },
  {
   "cell_type": "code",
   "execution_count": 381,
   "outputs": [],
   "source": [
    "X_train, X_test, y_train, y_test = train_test_split(features, target, test_size= 1 - train_ratio)\n",
    "X_valid, X_test, y_valid, y_test = train_test_split(X_test, y_test, test_size= test_ratio / (test_ratio + validation_ratio))"
   ],
   "metadata": {
    "collapsed": false,
    "pycharm": {
     "name": "#%%\n"
    }
   }
  },
  {
   "cell_type": "code",
   "execution_count": 382,
   "outputs": [
    {
     "data": {
      "text/plain": "(       season  holiday  workingday  weather   temp   atemp  humidity  \\\n 10067       4        0           0        1  13.12  14.395        53   \n 8400        3        0           1        2  28.70  33.335        74   \n 9640        4        0           0        1  22.96  26.515        83   \n 8074        2        0           0        2  28.70  31.820        42   \n 9851        4        0           0        1  22.14  25.760        73   \n ...       ...      ...         ...      ...    ...     ...       ...   \n 5492        1        0           1        1   4.10   3.790        46   \n 270         1        0           1        1   8.20   9.090        47   \n 1435        2        0           1        1  15.58  19.695        46   \n 9760        4        0           1        1  18.04  21.970        47   \n 8819        3        0           1        1  28.70  32.575        54   \n \n        windspeed  casual  registered  year  month  day  hour  minute  second  \\\n 10067    23.9994       7         134  2012     11    4    20       0       0   \n 8400      8.9981      30         298  2012      7   11     9       0       0   \n 9640     16.9979      25         116  2012     10    6     1       0       0   \n 8074     12.9980     184         277  2012      6   16    19       0       0   \n 9851     15.0013      48         198  2012     10   14    20       0       0   \n ...          ...     ...         ...   ...    ...  ...   ...     ...     ...   \n 5492     26.0027       0          18  2012      1    3    23       0       0   \n 270      23.9994       0         139  2011      1   12    17       0       0   \n 1435     27.9993      17         113  2011      4    5    16       0       0   \n 9760     12.9980       1          10  2012     10   11     1       0       0   \n 8819     19.0012      91         387  2012      8    9    20       0       0   \n \n        dayofweek  \n 10067          6  \n 8400           2  \n 9640           5  \n 8074           5  \n 9851           6  \n ...          ...  \n 5492           1  \n 270            2  \n 1435           1  \n 9760           3  \n 8819           3  \n \n [6531 rows x 17 columns],\n        season  holiday  workingday  weather   temp   atemp  humidity  \\\n 1748        2        0           1        1  26.24  31.060        31   \n 4852        4        0           1        2  22.96  26.515        64   \n 4743        4        0           1        3  14.76  17.425        81   \n 7539        2        0           0        1  26.24  31.060        57   \n 917         1        0           1        1  22.14  25.760        19   \n ...       ...      ...         ...      ...    ...     ...       ...   \n 8323        3        0           0        1  31.98  37.880        66   \n 10277       4        0           1        1  16.40  20.455        40   \n 7307        2        0           1        1  26.24  30.305        73   \n 3796        3        0           1        3  25.42  27.275        94   \n 7343        2        0           0        1  23.78  27.275        83   \n \n        windspeed  casual  registered  year  month  day  hour  minute  second  \\\n 1748     23.9994      41         321  2011      4   18    18       0       0   \n 4852      6.0032       4         104  2011     11   15     6       0       0   \n 4743     15.0013       9         168  2011     11   10    17       0       0   \n 7539     15.0013     189         342  2012      5   13    12       0       0   \n 917      22.0028      27         112  2011      3    2    16       0       0   \n ...          ...     ...         ...   ...    ...  ...   ...     ...     ...   \n 8323      7.0015       2          11  2012      7    8     4       0       0   \n 10277    19.9995      33         184  2012     11   13    15       0       0   \n 7307     12.9980      52         368  2012      5    3    20       0       0   \n 3796     11.0014       0           3  2011      9    9     4       0       0   \n 7343      6.0032      42         155  2012      5    5     8       0       0   \n \n        dayofweek  \n 1748           0  \n 4852           1  \n 4743           3  \n 7539           6  \n 917            2  \n ...          ...  \n 8323           6  \n 10277          1  \n 7307           3  \n 3796           4  \n 7343           5  \n \n [2178 rows x 17 columns],\n        count\n 10067    141\n 8400     328\n 9640     141\n 8074     461\n 9851     246\n ...      ...\n 5492      18\n 270      139\n 1435     130\n 9760      11\n 8819     478\n \n [6531 rows x 1 columns],\n        count\n 1748     362\n 4852     108\n 4743     177\n 7539     531\n 917      139\n ...      ...\n 8323      13\n 10277    217\n 7307     420\n 3796       3\n 7343     197\n \n [2178 rows x 1 columns],\n       season  holiday  workingday  weather   temp   atemp  humidity  \\\n 5998       1        0           1        1   7.38  10.605        80   \n 2732       3        0           0        1  33.62  35.605        30   \n 5953       1        0           0        1   9.02  11.365        87   \n 9705       4        1           0        2  17.22  21.210        66   \n 3708       3        1           0        2  28.70  32.575        70   \n ...      ...      ...         ...      ...    ...     ...       ...   \n 5967       1        0           0        3   9.84  11.365        93   \n 3915       3        0           1        1  24.60  28.030        83   \n 1055       1        0           1        2  14.76  18.940        23   \n 3557       3        0           1        1  27.06  31.060        69   \n 9009       3        0           1        2  33.62  12.120        38   \n \n       windspeed  casual  registered  year  month  day  hour  minute  second  \\\n 5998     7.0015       0           2  2012      2    6     4       0       0   \n 2732    19.0012     193         190  2011      7    2    18       0       0   \n 5953     8.9981       1           4  2012      2    4     6       0       0   \n 9705    19.0012      41         415  2012     10    8    18       0       0   \n 3708    11.0014     107         137  2011      9    5    10       0       0   \n ...         ...     ...         ...   ...    ...  ...   ...     ...     ...   \n 5967    12.9980       4          73  2012      2    4    20       0       0   \n 3915     6.0032       1           8  2011      9   14     4       0       0   \n 1055     0.0000      29          70  2011      3    8    12       0       0   \n 3557    19.0012       0           6  2011      8   18     3       0       0   \n 9009    16.9979     108         561  2012      8   17    18       0       0   \n \n       dayofweek  \n 5998          0  \n 2732          5  \n 5953          5  \n 9705          0  \n 3708          0  \n ...         ...  \n 5967          5  \n 3915          2  \n 1055          1  \n 3557          3  \n 9009          4  \n \n [2177 rows x 17 columns],\n       count\n 5998      2\n 2732    383\n 5953      5\n 9705    456\n 3708    244\n ...     ...\n 5967     77\n 3915      9\n 1055     99\n 3557      6\n 9009    669\n \n [2177 rows x 1 columns])"
     },
     "execution_count": 382,
     "metadata": {},
     "output_type": "execute_result"
    }
   ],
   "source": [
    "X_train, X_test, y_train, y_test, X_valid, y_valid"
   ],
   "metadata": {
    "collapsed": false,
    "pycharm": {
     "name": "#%%\n"
    }
   }
  },
  {
   "cell_type": "code",
   "execution_count": 383,
   "outputs": [
    {
     "name": "stdout",
     "output_type": "stream",
     "text": [
      "       season  holiday  workingday  weather   temp   atemp  humidity  \\\n",
      "10067       4        0           0        1  13.12  14.395        53   \n",
      "8400        3        0           1        2  28.70  33.335        74   \n",
      "9640        4        0           0        1  22.96  26.515        83   \n",
      "8074        2        0           0        2  28.70  31.820        42   \n",
      "9851        4        0           0        1  22.14  25.760        73   \n",
      "...       ...      ...         ...      ...    ...     ...       ...   \n",
      "5492        1        0           1        1   4.10   3.790        46   \n",
      "270         1        0           1        1   8.20   9.090        47   \n",
      "1435        2        0           1        1  15.58  19.695        46   \n",
      "9760        4        0           1        1  18.04  21.970        47   \n",
      "8819        3        0           1        1  28.70  32.575        54   \n",
      "\n",
      "       windspeed  casual  registered  year  month  day  hour  minute  second  \\\n",
      "10067    23.9994       7         134  2012     11    4    20       0       0   \n",
      "8400      8.9981      30         298  2012      7   11     9       0       0   \n",
      "9640     16.9979      25         116  2012     10    6     1       0       0   \n",
      "8074     12.9980     184         277  2012      6   16    19       0       0   \n",
      "9851     15.0013      48         198  2012     10   14    20       0       0   \n",
      "...          ...     ...         ...   ...    ...  ...   ...     ...     ...   \n",
      "5492     26.0027       0          18  2012      1    3    23       0       0   \n",
      "270      23.9994       0         139  2011      1   12    17       0       0   \n",
      "1435     27.9993      17         113  2011      4    5    16       0       0   \n",
      "9760     12.9980       1          10  2012     10   11     1       0       0   \n",
      "8819     19.0012      91         387  2012      8    9    20       0       0   \n",
      "\n",
      "       dayofweek  \n",
      "10067          6  \n",
      "8400           2  \n",
      "9640           5  \n",
      "8074           5  \n",
      "9851           6  \n",
      "...          ...  \n",
      "5492           1  \n",
      "270            2  \n",
      "1435           1  \n",
      "9760           3  \n",
      "8819           3  \n",
      "\n",
      "[6531 rows x 17 columns]       season  holiday  workingday  weather   temp   atemp  humidity  \\\n",
      "5998       1        0           1        1   7.38  10.605        80   \n",
      "2732       3        0           0        1  33.62  35.605        30   \n",
      "5953       1        0           0        1   9.02  11.365        87   \n",
      "9705       4        1           0        2  17.22  21.210        66   \n",
      "3708       3        1           0        2  28.70  32.575        70   \n",
      "...      ...      ...         ...      ...    ...     ...       ...   \n",
      "5967       1        0           0        3   9.84  11.365        93   \n",
      "3915       3        0           1        1  24.60  28.030        83   \n",
      "1055       1        0           1        2  14.76  18.940        23   \n",
      "3557       3        0           1        1  27.06  31.060        69   \n",
      "9009       3        0           1        2  33.62  12.120        38   \n",
      "\n",
      "      windspeed  casual  registered  year  month  day  hour  minute  second  \\\n",
      "5998     7.0015       0           2  2012      2    6     4       0       0   \n",
      "2732    19.0012     193         190  2011      7    2    18       0       0   \n",
      "5953     8.9981       1           4  2012      2    4     6       0       0   \n",
      "9705    19.0012      41         415  2012     10    8    18       0       0   \n",
      "3708    11.0014     107         137  2011      9    5    10       0       0   \n",
      "...         ...     ...         ...   ...    ...  ...   ...     ...     ...   \n",
      "5967    12.9980       4          73  2012      2    4    20       0       0   \n",
      "3915     6.0032       1           8  2011      9   14     4       0       0   \n",
      "1055     0.0000      29          70  2011      3    8    12       0       0   \n",
      "3557    19.0012       0           6  2011      8   18     3       0       0   \n",
      "9009    16.9979     108         561  2012      8   17    18       0       0   \n",
      "\n",
      "      dayofweek  \n",
      "5998          0  \n",
      "2732          5  \n",
      "5953          5  \n",
      "9705          0  \n",
      "3708          0  \n",
      "...         ...  \n",
      "5967          5  \n",
      "3915          2  \n",
      "1055          1  \n",
      "3557          3  \n",
      "9009          4  \n",
      "\n",
      "[2177 rows x 17 columns]        season  holiday  workingday  weather   temp   atemp  humidity  \\\n",
      "1748        2        0           1        1  26.24  31.060        31   \n",
      "4852        4        0           1        2  22.96  26.515        64   \n",
      "4743        4        0           1        3  14.76  17.425        81   \n",
      "7539        2        0           0        1  26.24  31.060        57   \n",
      "917         1        0           1        1  22.14  25.760        19   \n",
      "...       ...      ...         ...      ...    ...     ...       ...   \n",
      "8323        3        0           0        1  31.98  37.880        66   \n",
      "10277       4        0           1        1  16.40  20.455        40   \n",
      "7307        2        0           1        1  26.24  30.305        73   \n",
      "3796        3        0           1        3  25.42  27.275        94   \n",
      "7343        2        0           0        1  23.78  27.275        83   \n",
      "\n",
      "       windspeed  casual  registered  year  month  day  hour  minute  second  \\\n",
      "1748     23.9994      41         321  2011      4   18    18       0       0   \n",
      "4852      6.0032       4         104  2011     11   15     6       0       0   \n",
      "4743     15.0013       9         168  2011     11   10    17       0       0   \n",
      "7539     15.0013     189         342  2012      5   13    12       0       0   \n",
      "917      22.0028      27         112  2011      3    2    16       0       0   \n",
      "...          ...     ...         ...   ...    ...  ...   ...     ...     ...   \n",
      "8323      7.0015       2          11  2012      7    8     4       0       0   \n",
      "10277    19.9995      33         184  2012     11   13    15       0       0   \n",
      "7307     12.9980      52         368  2012      5    3    20       0       0   \n",
      "3796     11.0014       0           3  2011      9    9     4       0       0   \n",
      "7343      6.0032      42         155  2012      5    5     8       0       0   \n",
      "\n",
      "       dayofweek  \n",
      "1748           0  \n",
      "4852           1  \n",
      "4743           3  \n",
      "7539           6  \n",
      "917            2  \n",
      "...          ...  \n",
      "8323           6  \n",
      "10277          1  \n",
      "7307           3  \n",
      "3796           4  \n",
      "7343           5  \n",
      "\n",
      "[2178 rows x 17 columns]\n"
     ]
    }
   ],
   "source": [
    "print(X_train, X_valid, X_test)"
   ],
   "metadata": {
    "collapsed": false,
    "pycharm": {
     "name": "#%%\n"
    }
   }
  },
  {
   "cell_type": "code",
   "execution_count": 384,
   "outputs": [
    {
     "name": "stdout",
     "output_type": "stream",
     "text": [
      "       season  holiday  workingday  weather   temp   atemp  humidity  \\\n",
      "10067       4        0           0        1  13.12  14.395        53   \n",
      "8400        3        0           1        2  28.70  33.335        74   \n",
      "9640        4        0           0        1  22.96  26.515        83   \n",
      "8074        2        0           0        2  28.70  31.820        42   \n",
      "9851        4        0           0        1  22.14  25.760        73   \n",
      "...       ...      ...         ...      ...    ...     ...       ...   \n",
      "5492        1        0           1        1   4.10   3.790        46   \n",
      "270         1        0           1        1   8.20   9.090        47   \n",
      "1435        2        0           1        1  15.58  19.695        46   \n",
      "9760        4        0           1        1  18.04  21.970        47   \n",
      "8819        3        0           1        1  28.70  32.575        54   \n",
      "\n",
      "       windspeed  casual  registered  year  month  day  hour  minute  second  \\\n",
      "10067    23.9994       7         134  2012     11    4    20       0       0   \n",
      "8400      8.9981      30         298  2012      7   11     9       0       0   \n",
      "9640     16.9979      25         116  2012     10    6     1       0       0   \n",
      "8074     12.9980     184         277  2012      6   16    19       0       0   \n",
      "9851     15.0013      48         198  2012     10   14    20       0       0   \n",
      "...          ...     ...         ...   ...    ...  ...   ...     ...     ...   \n",
      "5492     26.0027       0          18  2012      1    3    23       0       0   \n",
      "270      23.9994       0         139  2011      1   12    17       0       0   \n",
      "1435     27.9993      17         113  2011      4    5    16       0       0   \n",
      "9760     12.9980       1          10  2012     10   11     1       0       0   \n",
      "8819     19.0012      91         387  2012      8    9    20       0       0   \n",
      "\n",
      "       dayofweek  \n",
      "10067          6  \n",
      "8400           2  \n",
      "9640           5  \n",
      "8074           5  \n",
      "9851           6  \n",
      "...          ...  \n",
      "5492           1  \n",
      "270            2  \n",
      "1435           1  \n",
      "9760           3  \n",
      "8819           3  \n",
      "\n",
      "[6531 rows x 17 columns]        count\n",
      "10067    141\n",
      "8400     328\n",
      "9640     141\n",
      "8074     461\n",
      "9851     246\n",
      "...      ...\n",
      "5492      18\n",
      "270      139\n",
      "1435     130\n",
      "9760      11\n",
      "8819     478\n",
      "\n",
      "[6531 rows x 1 columns]\n"
     ]
    }
   ],
   "source": [
    "print(X_train, y_train)"
   ],
   "metadata": {
    "collapsed": false,
    "pycharm": {
     "name": "#%%\n"
    }
   }
  },
  {
   "cell_type": "code",
   "execution_count": 385,
   "outputs": [],
   "source": [
    "from sklearn.neighbors import KNeighborsRegressor"
   ],
   "metadata": {
    "collapsed": false,
    "pycharm": {
     "name": "#%%\n"
    }
   }
  },
  {
   "cell_type": "code",
   "execution_count": 386,
   "outputs": [],
   "source": [
    "knn_model = KNeighborsRegressor()"
   ],
   "metadata": {
    "collapsed": false,
    "pycharm": {
     "name": "#%%\n"
    }
   }
  },
  {
   "cell_type": "code",
   "execution_count": 387,
   "outputs": [
    {
     "data": {
      "text/plain": "KNeighborsRegressor()"
     },
     "execution_count": 387,
     "metadata": {},
     "output_type": "execute_result"
    }
   ],
   "source": [
    "knn_model.fit(X_train,y_train)"
   ],
   "metadata": {
    "collapsed": false,
    "pycharm": {
     "name": "#%%\n"
    }
   }
  },
  {
   "cell_type": "code",
   "execution_count": 388,
   "outputs": [],
   "source": [
    "predict = knn_model.predict(X_test)"
   ],
   "metadata": {
    "collapsed": false,
    "pycharm": {
     "name": "#%%\n"
    }
   }
  },
  {
   "cell_type": "code",
   "execution_count": 393,
   "outputs": [
    {
     "name": "stdout",
     "output_type": "stream",
     "text": [
      "train score: 0.999502151750867\n",
      "test score: 0.9993622251738757\n",
      "validation score: 0.9994102151699032:\n"
     ]
    }
   ],
   "source": [
    "print(f'train score: {knn_model.score(X_train, y_train)}')\n",
    "print(f'test score: {knn_model.score(X_test, y_test)}')\n",
    "print(f'validation score: {knn_model.score(X_valid, y_valid)}:')"
   ],
   "metadata": {
    "collapsed": false,
    "pycharm": {
     "name": "#%%\n"
    }
   }
  },
  {
   "cell_type": "code",
   "execution_count": 389,
   "outputs": [],
   "source": [],
   "metadata": {
    "collapsed": false,
    "pycharm": {
     "name": "#%%\n"
    }
   }
  }
 ],
 "metadata": {
  "kernelspec": {
   "name": "gpu_python",
   "language": "python",
   "display_name": "gpu_python"
  },
  "language_info": {
   "codemirror_mode": {
    "name": "ipython",
    "version": 2
   },
   "file_extension": ".py",
   "mimetype": "text/x-python",
   "name": "python",
   "nbconvert_exporter": "python",
   "pygments_lexer": "ipython2",
   "version": "2.7.6"
  }
 },
 "nbformat": 4,
 "nbformat_minor": 0
}