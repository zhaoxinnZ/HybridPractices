{
  "cells": [
    {
      "cell_type": "markdown",
      "metadata": {
        "id": "view-in-github",
        "colab_type": "text"
      },
      "source": [
        "<a href=\"https://colab.research.google.com/github/zhaoxinnZ/HybridPractices/blob/master/DL%26AI_Test.ipynb\" target=\"_parent\"><img src=\"https://colab.research.google.com/assets/colab-badge.svg\" alt=\"Open In Colab\"/></a>"
      ]
    },
    {
      "cell_type": "code",
      "execution_count": 1,
      "metadata": {
        "colab": {
          "base_uri": "https://localhost:8080/"
        },
        "id": "T1HBSmoI9wPQ",
        "outputId": "4117971e-b81b-492d-ef67-758e3af33af6"
      },
      "outputs": [
        {
          "output_type": "stream",
          "name": "stdout",
          "text": [
            "2.8.0\n",
            "Downloading data from https://storage.googleapis.com/tensorflow/tf-keras-datasets/mnist.npz\n",
            "11493376/11490434 [==============================] - 0s 0us/step\n",
            "11501568/11490434 [==============================] - 0s 0us/step\n"
          ]
        },
        {
          "output_type": "stream",
          "name": "stderr",
          "text": [
            "/usr/local/lib/python3.7/dist-packages/keras/optimizer_v2/adam.py:105: UserWarning: The `lr` argument is deprecated, use `learning_rate` instead.\n",
            "  super(Adam, self).__init__(name, **kwargs)\n"
          ]
        },
        {
          "output_type": "stream",
          "name": "stdout",
          "text": [
            "Epoch 1/10\n",
            "1875/1875 - 7s - loss: 0.1826 - accuracy: 0.9447 - 7s/epoch - 4ms/step\n",
            "Epoch 2/10\n",
            "1875/1875 - 5s - loss: 0.0805 - accuracy: 0.9748 - 5s/epoch - 2ms/step\n",
            "Epoch 3/10\n",
            "1875/1875 - 4s - loss: 0.0546 - accuracy: 0.9825 - 4s/epoch - 2ms/step\n",
            "Epoch 4/10\n",
            "1875/1875 - 4s - loss: 0.0406 - accuracy: 0.9873 - 4s/epoch - 2ms/step\n",
            "Epoch 5/10\n",
            "1875/1875 - 4s - loss: 0.0345 - accuracy: 0.9890 - 4s/epoch - 2ms/step\n",
            "Epoch 6/10\n",
            "1875/1875 - 4s - loss: 0.0285 - accuracy: 0.9909 - 4s/epoch - 2ms/step\n",
            "Epoch 7/10\n",
            "1875/1875 - 4s - loss: 0.0225 - accuracy: 0.9924 - 4s/epoch - 2ms/step\n",
            "Epoch 8/10\n",
            "1875/1875 - 4s - loss: 0.0211 - accuracy: 0.9933 - 4s/epoch - 2ms/step\n",
            "Epoch 9/10\n",
            "1875/1875 - 4s - loss: 0.0180 - accuracy: 0.9943 - 4s/epoch - 2ms/step\n",
            "Epoch 10/10\n",
            "1875/1875 - 4s - loss: 0.0172 - accuracy: 0.9946 - 4s/epoch - 2ms/step\n",
            "313/313 - 1s - loss: 0.0995 - accuracy: 0.9794 - 897ms/epoch - 3ms/step\n"
          ]
        },
        {
          "output_type": "execute_result",
          "data": {
            "text/plain": [
              "[0.09949624538421631, 0.9793999791145325]"
            ]
          },
          "metadata": {},
          "execution_count": 1
        }
      ],
      "source": [
        "import tensorflow as tf\n",
        "from tensorflow import keras\n",
        "from tensorflow.keras import layers\n",
        "from tensorflow.keras.datasets import mnist\n",
        "\n",
        "print(tf.__version__)\n",
        "\n",
        "\n",
        "(x_train, y_train), (x_test, y_test) = mnist.load_data()\n",
        "x_train = x_train.reshape(-1, 28 * 28).astype(\"float32\") / 255.0\n",
        "x_test = x_test.reshape(-1, 28 * 28).astype(\"float32\") / 255.0\n",
        "\n",
        "model = keras.Sequential(\n",
        "    [\n",
        "        keras.Input(shape=(28*28)),\n",
        "        layers.Dense(512, activation='relu'),\n",
        "        layers.Dense(256, activation='relu'),\n",
        "        layers.Dense(10),\n",
        "    ]\n",
        ")\n",
        "\n",
        "\n",
        "model.compile(\n",
        "    loss=keras.losses.SparseCategoricalCrossentropy(from_logits=True),\n",
        "    optimizer=keras.optimizers.Adam(lr=0.001),\n",
        "    metrics=[\"accuracy\"],\n",
        ")\n",
        "\n",
        "\n",
        "model.fit(x_train, y_train, batch_size=32, epochs=10, verbose=2)\n",
        "model.evaluate(x_test, y_test, batch_size=32, verbose=2)"
      ]
    },
    {
      "cell_type": "code",
      "execution_count": null,
      "metadata": {
        "id": "NSw0Nvhy92yu"
      },
      "outputs": [],
      "source": [
        ""
      ]
    }
  ],
  "metadata": {
    "colab": {
      "name": "DL&AI Test",
      "provenance": [],
      "authorship_tag": "ABX9TyOV8Mst/lBoCl6dsWfTzx4u",
      "include_colab_link": true
    },
    "kernelspec": {
      "display_name": "Python 3",
      "name": "python3"
    },
    "language_info": {
      "name": "python"
    },
    "accelerator": "GPU"
  },
  "nbformat": 4,
  "nbformat_minor": 0
}