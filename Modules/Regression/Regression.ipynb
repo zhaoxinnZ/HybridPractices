{
 "cells": [
  {
   "cell_type": "code",
   "execution_count": 2,
   "metadata": {
    "pycharm": {
     "name": "#%%\n"
    }
   },
   "outputs": [],
   "source": [
    "import tensorflow as tf\n",
    "import keras\n",
    "import matplotlib.pyplot as plt\n",
    "from tensorflow.keras import layers"
   ]
  },
  {
   "cell_type": "code",
   "execution_count": 3,
   "metadata": {
    "pycharm": {
     "name": "#%%\n"
    }
   },
   "outputs": [],
   "source": [
    "X = tf.constant([-7, -4, -1, 2, 5, 8, 11, 14],dtype=tf.float32)\n",
    "y = tf.constant([3, 6, 9, 12, 15, 18, 21, 24],dtype=tf.float32)"
   ]
  },
  {
   "cell_type": "code",
   "execution_count": 4,
   "metadata": {
    "pycharm": {
     "name": "#%%\n"
    }
   },
   "outputs": [
    {
     "name": "stdout",
     "output_type": "stream",
     "text": [
      "Epoch 1/20\n",
      "1/1 [==============================] - 1s 1s/step - loss: 11.5048 - mae: 11.5048\n",
      "Epoch 2/20\n",
      "1/1 [==============================] - 0s 4ms/step - loss: 11.3723 - mae: 11.3723\n",
      "Epoch 3/20\n",
      "1/1 [==============================] - 0s 4ms/step - loss: 11.2398 - mae: 11.2398\n",
      "Epoch 4/20\n",
      "1/1 [==============================] - 0s 5ms/step - loss: 11.1073 - mae: 11.1073\n",
      "Epoch 5/20\n",
      "1/1 [==============================] - 0s 4ms/step - loss: 10.9748 - mae: 10.9748\n",
      "Epoch 6/20\n",
      "1/1 [==============================] - 0s 4ms/step - loss: 10.8423 - mae: 10.8423\n",
      "Epoch 7/20\n",
      "1/1 [==============================] - 0s 6ms/step - loss: 10.7098 - mae: 10.7098\n",
      "Epoch 8/20\n",
      "1/1 [==============================] - 0s 7ms/step - loss: 10.5773 - mae: 10.5773\n",
      "Epoch 9/20\n",
      "1/1 [==============================] - 0s 6ms/step - loss: 10.4448 - mae: 10.4448\n",
      "Epoch 10/20\n",
      "1/1 [==============================] - 0s 5ms/step - loss: 10.3123 - mae: 10.3123\n",
      "Epoch 11/20\n",
      "1/1 [==============================] - 0s 3ms/step - loss: 10.1798 - mae: 10.1798\n",
      "Epoch 12/20\n",
      "1/1 [==============================] - 0s 3ms/step - loss: 10.0473 - mae: 10.0473\n",
      "Epoch 13/20\n",
      "1/1 [==============================] - 0s 3ms/step - loss: 9.9148 - mae: 9.9148\n",
      "Epoch 14/20\n",
      "1/1 [==============================] - 0s 4ms/step - loss: 9.7823 - mae: 9.7823\n",
      "Epoch 15/20\n",
      "1/1 [==============================] - 0s 5ms/step - loss: 9.6498 - mae: 9.6498\n",
      "Epoch 16/20\n",
      "1/1 [==============================] - 0s 5ms/step - loss: 9.5173 - mae: 9.5173\n",
      "Epoch 17/20\n",
      "1/1 [==============================] - 0s 4ms/step - loss: 9.3848 - mae: 9.3848\n",
      "Epoch 18/20\n",
      "1/1 [==============================] - 0s 5ms/step - loss: 9.2523 - mae: 9.2523\n",
      "Epoch 19/20\n",
      "1/1 [==============================] - 0s 7ms/step - loss: 9.1198 - mae: 9.1198\n",
      "Epoch 20/20\n",
      "1/1 [==============================] - 0s 11ms/step - loss: 8.9873 - mae: 8.9873\n"
     ]
    },
    {
     "data": {
      "text/plain": "<tensorflow.python.keras.callbacks.History at 0x1f44662c670>"
     },
     "execution_count": 4,
     "metadata": {},
     "output_type": "execute_result"
    }
   ],
   "source": [
    "tf.random.set_seed(42)\n",
    "\n",
    "model = tf.keras.Sequential([\n",
    "    layers.Dense(1)\n",
    "])\n",
    "\n",
    "model.compile(loss=tf.keras.losses.mae,\n",
    "              optimizer=tf.keras.optimizers.SGD(),\n",
    "              metrics=[\"mae\"]\n",
    "              )\n",
    "\n",
    "model.fit(X, y, epochs=20)"
   ]
  },
  {
   "cell_type": "code",
   "execution_count": 5,
   "metadata": {
    "pycharm": {
     "name": "#%%\n"
    }
   },
   "outputs": [
    {
     "data": {
      "text/plain": "(<tf.Tensor: shape=(8,), dtype=float32, numpy=array([-7., -4., -1.,  2.,  5.,  8., 11., 14.], dtype=float32)>,\n <tf.Tensor: shape=(8,), dtype=float32, numpy=array([ 3.,  6.,  9., 12., 15., 18., 21., 24.], dtype=float32)>)"
     },
     "execution_count": 5,
     "metadata": {},
     "output_type": "execute_result"
    }
   ],
   "source": [
    "X, y"
   ]
  },
  {
   "cell_type": "markdown",
   "source": [
    "## Model Creating"
   ],
   "metadata": {
    "collapsed": false
   }
  },
  {
   "cell_type": "code",
   "execution_count": 6,
   "metadata": {
    "pycharm": {
     "name": "#%%\n"
    }
   },
   "outputs": [
    {
     "name": "stdout",
     "output_type": "stream",
     "text": [
      "Epoch 1/100\n",
      "1/1 [==============================] - 1s 642ms/step - loss: 15.6825 - mae: 15.6825\n",
      "Epoch 2/100\n",
      "1/1 [==============================] - 0s 5ms/step - loss: 15.2516 - mae: 15.2516\n",
      "Epoch 3/100\n",
      "1/1 [==============================] - 0s 4ms/step - loss: 14.8791 - mae: 14.8791\n",
      "Epoch 4/100\n",
      "1/1 [==============================] - 0s 4ms/step - loss: 14.5352 - mae: 14.5352\n",
      "Epoch 5/100\n",
      "1/1 [==============================] - 0s 5ms/step - loss: 14.2035 - mae: 14.2035\n",
      "Epoch 6/100\n",
      "1/1 [==============================] - 0s 5ms/step - loss: 13.8779 - mae: 13.8779\n",
      "Epoch 7/100\n",
      "1/1 [==============================] - 0s 5ms/step - loss: 13.5533 - mae: 13.5533\n",
      "Epoch 8/100\n",
      "1/1 [==============================] - 0s 14ms/step - loss: 13.2293 - mae: 13.2293\n",
      "Epoch 9/100\n",
      "1/1 [==============================] - 0s 7ms/step - loss: 12.9053 - mae: 12.9053\n",
      "Epoch 10/100\n",
      "1/1 [==============================] - 0s 4ms/step - loss: 12.5806 - mae: 12.5806\n",
      "Epoch 11/100\n",
      "1/1 [==============================] - 0s 10ms/step - loss: 12.2547 - mae: 12.2547\n",
      "Epoch 12/100\n",
      "1/1 [==============================] - 0s 4ms/step - loss: 11.9271 - mae: 11.9271\n",
      "Epoch 13/100\n",
      "1/1 [==============================] - 0s 4ms/step - loss: 11.5973 - mae: 11.5973\n",
      "Epoch 14/100\n",
      "1/1 [==============================] - 0s 5ms/step - loss: 11.2650 - mae: 11.2650\n",
      "Epoch 15/100\n",
      "1/1 [==============================] - 0s 5ms/step - loss: 10.9296 - mae: 10.9296\n",
      "Epoch 16/100\n",
      "1/1 [==============================] - 0s 5ms/step - loss: 10.5916 - mae: 10.5916\n",
      "Epoch 17/100\n",
      "1/1 [==============================] - 0s 5ms/step - loss: 10.2501 - mae: 10.2501\n",
      "Epoch 18/100\n",
      "1/1 [==============================] - 0s 5ms/step - loss: 9.9040 - mae: 9.9040\n",
      "Epoch 19/100\n",
      "1/1 [==============================] - 0s 5ms/step - loss: 9.5520 - mae: 9.5520\n",
      "Epoch 20/100\n",
      "1/1 [==============================] - 0s 10ms/step - loss: 9.1948 - mae: 9.1948\n",
      "Epoch 21/100\n",
      "1/1 [==============================] - 0s 5ms/step - loss: 8.8283 - mae: 8.8283\n",
      "Epoch 22/100\n",
      "1/1 [==============================] - 0s 5ms/step - loss: 8.4605 - mae: 8.4605\n",
      "Epoch 23/100\n",
      "1/1 [==============================] - 0s 6ms/step - loss: 8.0853 - mae: 8.0853\n",
      "Epoch 24/100\n",
      "1/1 [==============================] - 0s 6ms/step - loss: 7.6998 - mae: 7.6998\n",
      "Epoch 25/100\n",
      "1/1 [==============================] - 0s 6ms/step - loss: 7.3081 - mae: 7.3081\n",
      "Epoch 26/100\n",
      "1/1 [==============================] - 0s 5ms/step - loss: 6.9066 - mae: 6.9066\n",
      "Epoch 27/100\n",
      "1/1 [==============================] - 0s 5ms/step - loss: 6.5013 - mae: 6.5013\n",
      "Epoch 28/100\n",
      "1/1 [==============================] - 0s 7ms/step - loss: 6.0894 - mae: 6.0894\n",
      "Epoch 29/100\n",
      "1/1 [==============================] - 0s 11ms/step - loss: 5.6640 - mae: 5.6640\n",
      "Epoch 30/100\n",
      "1/1 [==============================] - 0s 13ms/step - loss: 5.2240 - mae: 5.2240\n",
      "Epoch 31/100\n",
      "1/1 [==============================] - 0s 7ms/step - loss: 4.7693 - mae: 4.7693\n",
      "Epoch 32/100\n",
      "1/1 [==============================] - 0s 6ms/step - loss: 4.2998 - mae: 4.2998\n",
      "Epoch 33/100\n",
      "1/1 [==============================] - 0s 5ms/step - loss: 3.8153 - mae: 3.8153\n",
      "Epoch 34/100\n",
      "1/1 [==============================] - 0s 5ms/step - loss: 3.6186 - mae: 3.6186\n",
      "Epoch 35/100\n",
      "1/1 [==============================] - 0s 5ms/step - loss: 3.4919 - mae: 3.4919\n",
      "Epoch 36/100\n",
      "1/1 [==============================] - 0s 4ms/step - loss: 3.5739 - mae: 3.5739\n",
      "Epoch 37/100\n",
      "1/1 [==============================] - 0s 6ms/step - loss: 3.6445 - mae: 3.6445\n",
      "Epoch 38/100\n",
      "1/1 [==============================] - 0s 5ms/step - loss: 3.7046 - mae: 3.7046\n",
      "Epoch 39/100\n",
      "1/1 [==============================] - 0s 5ms/step - loss: 3.7875 - mae: 3.7875\n",
      "Epoch 40/100\n",
      "1/1 [==============================] - 0s 9ms/step - loss: 3.9019 - mae: 3.9019\n",
      "Epoch 41/100\n",
      "1/1 [==============================] - 0s 6ms/step - loss: 3.9777 - mae: 3.9777\n",
      "Epoch 42/100\n",
      "1/1 [==============================] - 0s 5ms/step - loss: 4.0125 - mae: 4.0125\n",
      "Epoch 43/100\n",
      "1/1 [==============================] - 0s 4ms/step - loss: 4.0159 - mae: 4.0159\n",
      "Epoch 44/100\n",
      "1/1 [==============================] - 0s 5ms/step - loss: 3.9807 - mae: 3.9807\n",
      "Epoch 45/100\n",
      "1/1 [==============================] - 0s 5ms/step - loss: 3.9219 - mae: 3.9219\n",
      "Epoch 46/100\n",
      "1/1 [==============================] - 0s 5ms/step - loss: 3.8382 - mae: 3.8382\n",
      "Epoch 47/100\n",
      "1/1 [==============================] - 0s 6ms/step - loss: 3.7325 - mae: 3.7325\n",
      "Epoch 48/100\n",
      "1/1 [==============================] - 0s 4ms/step - loss: 3.6253 - mae: 3.6253\n",
      "Epoch 49/100\n",
      "1/1 [==============================] - 0s 9ms/step - loss: 3.5735 - mae: 3.5735\n",
      "Epoch 50/100\n",
      "1/1 [==============================] - 0s 14ms/step - loss: 3.5214 - mae: 3.5214\n",
      "Epoch 51/100\n",
      "1/1 [==============================] - 0s 5ms/step - loss: 3.4691 - mae: 3.4691\n",
      "Epoch 52/100\n",
      "1/1 [==============================] - 0s 5ms/step - loss: 3.4236 - mae: 3.4236\n",
      "Epoch 53/100\n",
      "1/1 [==============================] - 0s 4ms/step - loss: 3.3684 - mae: 3.3684\n",
      "Epoch 54/100\n",
      "1/1 [==============================] - 0s 5ms/step - loss: 3.3194 - mae: 3.3194\n",
      "Epoch 55/100\n",
      "1/1 [==============================] - 0s 6ms/step - loss: 3.2685 - mae: 3.2685\n",
      "Epoch 56/100\n",
      "1/1 [==============================] - 0s 5ms/step - loss: 3.2250 - mae: 3.2250\n",
      "Epoch 57/100\n",
      "1/1 [==============================] - 0s 5ms/step - loss: 3.2441 - mae: 3.2441\n",
      "Epoch 58/100\n",
      "1/1 [==============================] - 0s 5ms/step - loss: 3.2579 - mae: 3.2579\n",
      "Epoch 59/100\n",
      "1/1 [==============================] - 0s 4ms/step - loss: 3.2494 - mae: 3.2494\n",
      "Epoch 60/100\n",
      "1/1 [==============================] - 0s 5ms/step - loss: 3.2376 - mae: 3.2376\n",
      "Epoch 61/100\n",
      "1/1 [==============================] - 0s 6ms/step - loss: 3.2139 - mae: 3.2139\n",
      "Epoch 62/100\n",
      "1/1 [==============================] - 0s 4ms/step - loss: 3.1753 - mae: 3.1753\n",
      "Epoch 63/100\n",
      "1/1 [==============================] - 0s 5ms/step - loss: 3.1206 - mae: 3.1206\n",
      "Epoch 64/100\n",
      "1/1 [==============================] - 0s 8ms/step - loss: 3.0730 - mae: 3.0730\n",
      "Epoch 65/100\n",
      "1/1 [==============================] - 0s 7ms/step - loss: 3.0028 - mae: 3.0028\n",
      "Epoch 66/100\n",
      "1/1 [==============================] - 0s 7ms/step - loss: 3.0024 - mae: 3.0024\n",
      "Epoch 67/100\n",
      "1/1 [==============================] - 0s 5ms/step - loss: 3.0056 - mae: 3.0056\n",
      "Epoch 68/100\n",
      "1/1 [==============================] - 0s 6ms/step - loss: 3.0022 - mae: 3.0022\n",
      "Epoch 69/100\n",
      "1/1 [==============================] - 0s 5ms/step - loss: 2.9925 - mae: 2.9925\n",
      "Epoch 70/100\n",
      "1/1 [==============================] - 0s 5ms/step - loss: 2.9771 - mae: 2.9771\n",
      "Epoch 71/100\n",
      "1/1 [==============================] - 0s 4ms/step - loss: 2.9564 - mae: 2.9564\n",
      "Epoch 72/100\n",
      "1/1 [==============================] - 0s 6ms/step - loss: 2.9299 - mae: 2.9299\n",
      "Epoch 73/100\n",
      "1/1 [==============================] - 0s 4ms/step - loss: 2.8986 - mae: 2.8986\n",
      "Epoch 74/100\n",
      "1/1 [==============================] - 0s 4ms/step - loss: 2.8629 - mae: 2.8629\n",
      "Epoch 75/100\n",
      "1/1 [==============================] - 0s 4ms/step - loss: 2.8228 - mae: 2.8228\n",
      "Epoch 76/100\n",
      "1/1 [==============================] - 0s 8ms/step - loss: 2.7787 - mae: 2.7787\n",
      "Epoch 77/100\n",
      "1/1 [==============================] - 0s 7ms/step - loss: 2.7310 - mae: 2.7310\n",
      "Epoch 78/100\n",
      "1/1 [==============================] - 0s 9ms/step - loss: 2.7098 - mae: 2.7098\n",
      "Epoch 79/100\n",
      "1/1 [==============================] - 0s 6ms/step - loss: 2.6918 - mae: 2.6918\n",
      "Epoch 80/100\n",
      "1/1 [==============================] - 0s 5ms/step - loss: 2.6567 - mae: 2.6567\n",
      "Epoch 81/100\n",
      "1/1 [==============================] - 0s 4ms/step - loss: 2.6060 - mae: 2.6060\n",
      "Epoch 82/100\n",
      "1/1 [==============================] - 0s 5ms/step - loss: 2.5410 - mae: 2.5410\n",
      "Epoch 83/100\n",
      "1/1 [==============================] - 0s 5ms/step - loss: 2.4907 - mae: 2.4907\n",
      "Epoch 84/100\n",
      "1/1 [==============================] - 0s 5ms/step - loss: 2.4484 - mae: 2.4484\n",
      "Epoch 85/100\n",
      "1/1 [==============================] - 0s 5ms/step - loss: 2.4302 - mae: 2.4302\n",
      "Epoch 86/100\n",
      "1/1 [==============================] - 0s 5ms/step - loss: 2.3941 - mae: 2.3941\n",
      "Epoch 87/100\n",
      "1/1 [==============================] - 0s 4ms/step - loss: 2.3367 - mae: 2.3367\n",
      "Epoch 88/100\n",
      "1/1 [==============================] - 0s 8ms/step - loss: 2.2922 - mae: 2.2922\n",
      "Epoch 89/100\n",
      "1/1 [==============================] - 0s 6ms/step - loss: 2.2416 - mae: 2.2416\n",
      "Epoch 90/100\n",
      "1/1 [==============================] - 0s 9ms/step - loss: 2.1853 - mae: 2.1853\n",
      "Epoch 91/100\n",
      "1/1 [==============================] - 0s 4ms/step - loss: 2.1343 - mae: 2.1343\n",
      "Epoch 92/100\n",
      "1/1 [==============================] - 0s 4ms/step - loss: 2.0999 - mae: 2.0999\n",
      "Epoch 93/100\n",
      "1/1 [==============================] - 0s 4ms/step - loss: 2.0443 - mae: 2.0443\n",
      "Epoch 94/100\n",
      "1/1 [==============================] - 0s 8ms/step - loss: 1.9895 - mae: 1.9895\n",
      "Epoch 95/100\n",
      "1/1 [==============================] - 0s 13ms/step - loss: 1.9443 - mae: 1.9443\n",
      "Epoch 96/100\n",
      "1/1 [==============================] - 0s 19ms/step - loss: 1.8920 - mae: 1.8920\n",
      "Epoch 97/100\n",
      "1/1 [==============================] - 0s 14ms/step - loss: 1.8330 - mae: 1.8330\n",
      "Epoch 98/100\n",
      "1/1 [==============================] - 0s 22ms/step - loss: 1.7677 - mae: 1.7677\n",
      "Epoch 99/100\n",
      "1/1 [==============================] - 0s 8ms/step - loss: 1.7233 - mae: 1.7233\n",
      "Epoch 100/100\n",
      "1/1 [==============================] - 0s 5ms/step - loss: 1.6653 - mae: 1.6653\n"
     ]
    },
    {
     "data": {
      "text/plain": "<tensorflow.python.keras.callbacks.History at 0x1f449009fa0>"
     },
     "execution_count": 6,
     "metadata": {},
     "output_type": "execute_result"
    }
   ],
   "source": [
    "model = tf.keras.Sequential([\n",
    "    tf.keras.layers.Dense(20, activation=tf.nn.relu),\n",
    "    tf.keras.layers.Dense(1),\n",
    "\n",
    "])\n",
    "\n",
    "model.compile(loss=tf.keras.losses.mae,\n",
    "              optimizer=tf.keras.optimizers.Adam(learning_rate=0.01),\n",
    "              metrics=[\"mae\"])\n",
    "\n",
    "model.fit(X, y, epochs=100)"
   ]
  },
  {
   "cell_type": "code",
   "execution_count": 7,
   "metadata": {
    "pycharm": {
     "name": "#%%\n"
    }
   },
   "outputs": [
    {
     "data": {
      "text/plain": "array([[29.284496]], dtype=float32)"
     },
     "execution_count": 7,
     "metadata": {},
     "output_type": "execute_result"
    }
   ],
   "source": [
    "model.predict([17.0])"
   ]
  },
  {
   "cell_type": "code",
   "execution_count": 8,
   "metadata": {
    "pycharm": {
     "name": "#%%\n"
    }
   },
   "outputs": [
    {
     "data": {
      "text/plain": "array([[33.630283]], dtype=float32)"
     },
     "execution_count": 8,
     "metadata": {},
     "output_type": "execute_result"
    }
   ],
   "source": [
    "model.predict([20])"
   ]
  },
  {
   "cell_type": "markdown",
   "metadata": {
    "pycharm": {
     "name": "#%% md\n"
    }
   },
   "source": [
    "## Model Evaluating"
   ]
  },
  {
   "cell_type": "code",
   "execution_count": 9,
   "metadata": {
    "pycharm": {
     "name": "#%%\n"
    }
   },
   "outputs": [
    {
     "data": {
      "text/plain": "<tf.Tensor: shape=(50,), dtype=int32, numpy=\narray([-100,  -96,  -92,  -88,  -84,  -80,  -76,  -72,  -68,  -64,  -60,\n        -56,  -52,  -48,  -44,  -40,  -36,  -32,  -28,  -24,  -20,  -16,\n        -12,   -8,   -4,    0,    4,    8,   12,   16,   20,   24,   28,\n         32,   36,   40,   44,   48,   52,   56,   60,   64,   68,   72,\n         76,   80,   84,   88,   92,   96])>"
     },
     "execution_count": 9,
     "metadata": {},
     "output_type": "execute_result"
    }
   ],
   "source": [
    "X = tf.range(-100, 100, 4)\n",
    "X"
   ]
  },
  {
   "cell_type": "code",
   "execution_count": 10,
   "outputs": [
    {
     "data": {
      "text/plain": "<tf.Tensor: shape=(50,), dtype=int32, numpy=\narray([-90, -86, -82, -78, -74, -70, -66, -62, -58, -54, -50, -46, -42,\n       -38, -34, -30, -26, -22, -18, -14, -10,  -6,  -2,   2,   6,  10,\n        14,  18,  22,  26,  30,  34,  38,  42,  46,  50,  54,  58,  62,\n        66,  70,  74,  78,  82,  86,  90,  94,  98, 102, 106])>"
     },
     "execution_count": 10,
     "metadata": {},
     "output_type": "execute_result"
    }
   ],
   "source": [
    "y = X + 10\n",
    "y"
   ],
   "metadata": {
    "collapsed": false,
    "pycharm": {
     "name": "#%%\n"
    }
   }
  },
  {
   "cell_type": "code",
   "execution_count": 11,
   "outputs": [
    {
     "data": {
      "text/plain": "[<matplotlib.lines.Line2D at 0x1f45616af40>]"
     },
     "execution_count": 11,
     "metadata": {},
     "output_type": "execute_result"
    },
    {
     "data": {
      "text/plain": "<Figure size 432x288 with 1 Axes>",
      "image/png": "[encoded data removed]"
     },
     "metadata": {
      "needs_background": "light"
     },
     "output_type": "display_data"
    }
   ],
   "source": [
    "plt.plot(X, y)"
   ],
   "metadata": {
    "collapsed": false,
    "pycharm": {
     "name": "#%%\n"
    }
   }
  },
  {
   "cell_type": "code",
   "execution_count": 12,
   "outputs": [
    {
     "data": {
      "text/plain": "<matplotlib.collections.PathCollection at 0x1f45a1716d0>"
     },
     "execution_count": 12,
     "metadata": {},
     "output_type": "execute_result"
    },
    {
     "data": {
      "text/plain": "<Figure size 432x288 with 1 Axes>",
      "image/png": "[encoded data removed]"
     },
     "metadata": {
      "needs_background": "light"
     },
     "output_type": "display_data"
    }
   ],
   "source": [
    "plt.scatter(X, y)"
   ],
   "metadata": {
    "collapsed": false,
    "pycharm": {
     "name": "#%%\n"
    }
   }
  },
  {
   "cell_type": "code",
   "execution_count": 13,
   "outputs": [
    {
     "data": {
      "text/plain": "50"
     },
     "execution_count": 13,
     "metadata": {},
     "output_type": "execute_result"
    }
   ],
   "source": [
    "len(X)"
   ],
   "metadata": {
    "collapsed": false,
    "pycharm": {
     "name": "#%%\n"
    }
   }
  },
  {
   "cell_type": "code",
   "execution_count": 14,
   "outputs": [
    {
     "data": {
      "text/plain": "(40, 10, 40, 10)"
     },
     "execution_count": 14,
     "metadata": {},
     "output_type": "execute_result"
    }
   ],
   "source": [
    "X_train = X[:40]\n",
    "y_train = y[:40]\n",
    "\n",
    "X_test = X[40:]\n",
    "y_test = y[40:]\n",
    "len(X_train), len(X_test), len(y_train), len(y_test)"
   ],
   "metadata": {
    "collapsed": false,
    "pycharm": {
     "name": "#%%\n"
    }
   }
  },
  {
   "cell_type": "code",
   "execution_count": 15,
   "outputs": [
    {
     "data": {
      "text/plain": "<matplotlib.legend.Legend at 0x1f4619d7f10>"
     },
     "execution_count": 15,
     "metadata": {},
     "output_type": "execute_result"
    },
    {
     "data": {
      "text/plain": "<Figure size 720x504 with 1 Axes>",
      "image/png": "[encoded data removed]"
     },
     "metadata": {
      "needs_background": "light"
     },
     "output_type": "display_data"
    }
   ],
   "source": [
    "plt.figure(figsize=(10, 7))\n",
    "\n",
    "plt.scatter(X_train, y_train, c=\"b\", label=\"Training data\")\n",
    "plt.scatter(X_test, y_test, c=\"g\", label=\"Testing data\")\n",
    "plt.legend()"
   ],
   "metadata": {
    "collapsed": false,
    "pycharm": {
     "name": "#%%\n"
    }
   }
  },
  {
   "cell_type": "code",
   "execution_count": 16,
   "outputs": [
    {
     "data": {
      "text/plain": "<tensorflow.python.keras.callbacks.History at 0x1f461da0be0>"
     },
     "execution_count": 16,
     "metadata": {},
     "output_type": "execute_result"
    }
   ],
   "source": [
    "model = tf.keras.Sequential([\n",
    "    tf.keras.layers.Dense(1)\n",
    "], name=\"test_module\")\n",
    "\n",
    "model.compile(loss=tf.keras.losses.mae,\n",
    "              optimizer=tf.keras.optimizers.SGD(),\n",
    "              metrics=[\"mae\"])\n",
    "\n",
    "model.fit(X_train, y_train, epochs=50, verbose=0)"
   ],
   "metadata": {
    "collapsed": false,
    "pycharm": {
     "name": "#%%\n"
    }
   }
  },
  {
   "cell_type": "code",
   "execution_count": 17,
   "outputs": [
    {
     "name": "stdout",
     "output_type": "stream",
     "text": [
      "Model: \"test_module\"\n",
      "_________________________________________________________________\n",
      "Layer (type)                 Output Shape              Param #   \n",
      "=================================================================\n",
      "dense_3 (Dense)              (None, 1)                 2         \n",
      "=================================================================\n",
      "Total params: 2\n",
      "Trainable params: 2\n",
      "Non-trainable params: 0\n",
      "_________________________________________________________________\n"
     ]
    }
   ],
   "source": [
    "model.summary()"
   ],
   "metadata": {
    "collapsed": false,
    "pycharm": {
     "name": "#%%\n"
    }
   }
  },
  {
   "cell_type": "code",
   "source": [
    "model.fit(X_train, y_train, epochs=100)"
   ],
   "metadata": {
    "collapsed": false,
    "pycharm": {
     "name": "#%%\n"
    }
   },
   "execution_count": 18,
   "outputs": [
    {
     "name": "stdout",
     "output_type": "stream",
     "text": [
      "Epoch 1/100\n",
      "2/2 [==============================] - 0s 5ms/step - loss: 8.8313 - mae: 8.8313\n",
      "Epoch 2/100\n",
      "2/2 [==============================] - 0s 5ms/step - loss: 9.3220 - mae: 9.3220\n",
      "Epoch 3/100\n",
      "2/2 [==============================] - 0s 3ms/step - loss: 10.3201 - mae: 10.3201\n",
      "Epoch 4/100\n",
      "2/2 [==============================] - 0s 6ms/step - loss: 9.0416 - mae: 9.0416\n",
      "Epoch 5/100\n",
      "2/2 [==============================] - 0s 5ms/step - loss: 9.9617 - mae: 9.9617\n",
      "Epoch 6/100\n",
      "2/2 [==============================] - 0s 4ms/step - loss: 9.1776 - mae: 9.1776\n",
      "Epoch 7/100\n",
      "2/2 [==============================] - 0s 5ms/step - loss: 8.2946 - mae: 8.2946\n",
      "Epoch 8/100\n",
      "2/2 [==============================] - 0s 4ms/step - loss: 8.5725 - mae: 8.5725\n",
      "Epoch 9/100\n",
      "2/2 [==============================] - 0s 23ms/step - loss: 18.9297 - mae: 18.9297\n",
      "Epoch 10/100\n",
      "2/2 [==============================] - 0s 4ms/step - loss: 9.6302 - mae: 9.6302\n",
      "Epoch 11/100\n",
      "2/2 [==============================] - 0s 4ms/step - loss: 7.9258 - mae: 7.9258\n",
      "Epoch 12/100\n",
      "2/2 [==============================] - 0s 4ms/step - loss: 10.1843 - mae: 10.1843\n",
      "Epoch 13/100\n",
      "2/2 [==============================] - 0s 5ms/step - loss: 9.3154 - mae: 9.3154\n",
      "Epoch 14/100\n",
      "2/2 [==============================] - 0s 4ms/step - loss: 15.6974 - mae: 15.6974\n",
      "Epoch 15/100\n",
      "2/2 [==============================] - 0s 5ms/step - loss: 11.5217 - mae: 11.5217\n",
      "Epoch 16/100\n",
      "2/2 [==============================] - 0s 4ms/step - loss: 8.1284 - mae: 8.1284\n",
      "Epoch 17/100\n",
      "2/2 [==============================] - 0s 3ms/step - loss: 13.2010 - mae: 13.2010\n",
      "Epoch 18/100\n",
      "2/2 [==============================] - 0s 3ms/step - loss: 11.0441 - mae: 11.0441\n",
      "Epoch 19/100\n",
      "2/2 [==============================] - 0s 4ms/step - loss: 17.6019 - mae: 17.6019\n",
      "Epoch 20/100\n",
      "2/2 [==============================] - 0s 3ms/step - loss: 14.3008 - mae: 14.3008\n",
      "Epoch 21/100\n",
      "2/2 [==============================] - 0s 3ms/step - loss: 10.1748 - mae: 10.1748\n",
      "Epoch 22/100\n",
      "2/2 [==============================] - 0s 5ms/step - loss: 7.8773 - mae: 7.8773\n",
      "Epoch 23/100\n",
      "2/2 [==============================] - 0s 4ms/step - loss: 9.4697 - mae: 9.4697\n",
      "Epoch 24/100\n",
      "2/2 [==============================] - 0s 5ms/step - loss: 15.4441 - mae: 15.4441\n",
      "Epoch 25/100\n",
      "2/2 [==============================] - 0s 11ms/step - loss: 11.7746 - mae: 11.7746\n",
      "Epoch 26/100\n",
      "2/2 [==============================] - 0s 4ms/step - loss: 12.9661 - mae: 12.9661\n",
      "Epoch 27/100\n",
      "2/2 [==============================] - 0s 4ms/step - loss: 10.3263 - mae: 10.3263\n",
      "Epoch 28/100\n",
      "2/2 [==============================] - 0s 4ms/step - loss: 12.6213 - mae: 12.6213\n",
      "Epoch 29/100\n",
      "2/2 [==============================] - 0s 28ms/step - loss: 9.0689 - mae: 9.0689\n",
      "Epoch 30/100\n",
      "2/2 [==============================] - 0s 5ms/step - loss: 16.3381 - mae: 16.3381\n",
      "Epoch 31/100\n",
      "2/2 [==============================] - 0s 4ms/step - loss: 23.2805 - mae: 23.2805\n",
      "Epoch 32/100\n",
      "2/2 [==============================] - 0s 5ms/step - loss: 6.8759 - mae: 6.8759\n",
      "Epoch 33/100\n",
      "2/2 [==============================] - 0s 4ms/step - loss: 9.2936 - mae: 9.2936\n",
      "Epoch 34/100\n",
      "2/2 [==============================] - 0s 5ms/step - loss: 11.7097 - mae: 11.7097\n",
      "Epoch 35/100\n",
      "2/2 [==============================] - 0s 4ms/step - loss: 11.0025 - mae: 11.0025\n",
      "Epoch 36/100\n",
      "2/2 [==============================] - 0s 7ms/step - loss: 12.2048 - mae: 12.2048\n",
      "Epoch 37/100\n",
      "2/2 [==============================] - 0s 4ms/step - loss: 9.0726 - mae: 9.0726\n",
      "Epoch 38/100\n",
      "2/2 [==============================] - 0s 4ms/step - loss: 9.7566 - mae: 9.7566\n",
      "Epoch 39/100\n",
      "2/2 [==============================] - 0s 4ms/step - loss: 15.7200 - mae: 15.7200\n",
      "Epoch 40/100\n",
      "2/2 [==============================] - 0s 34ms/step - loss: 13.4693 - mae: 13.4693\n",
      "Epoch 41/100\n",
      "2/2 [==============================] - 0s 6ms/step - loss: 9.3104 - mae: 9.3104\n",
      "Epoch 42/100\n",
      "2/2 [==============================] - 0s 5ms/step - loss: 10.6215 - mae: 10.6215\n",
      "Epoch 43/100\n",
      "2/2 [==============================] - 0s 19ms/step - loss: 7.8832 - mae: 7.8832\n",
      "Epoch 44/100\n",
      "2/2 [==============================] - 0s 5ms/step - loss: 12.7988 - mae: 12.7988\n",
      "Epoch 45/100\n",
      "2/2 [==============================] - 0s 4ms/step - loss: 13.8766 - mae: 13.8766\n",
      "Epoch 46/100\n",
      "2/2 [==============================] - 0s 4ms/step - loss: 7.9828 - mae: 7.9828\n",
      "Epoch 47/100\n",
      "2/2 [==============================] - 0s 5ms/step - loss: 8.6785 - mae: 8.6785\n",
      "Epoch 48/100\n",
      "2/2 [==============================] - 0s 15ms/step - loss: 10.1507 - mae: 10.1507\n",
      "Epoch 49/100\n",
      "2/2 [==============================] - 0s 4ms/step - loss: 7.3152 - mae: 7.3152\n",
      "Epoch 50/100\n",
      "2/2 [==============================] - 0s 7ms/step - loss: 9.0931 - mae: 9.0931\n",
      "Epoch 51/100\n",
      "2/2 [==============================] - 0s 4ms/step - loss: 9.0974 - mae: 9.0974\n",
      "Epoch 52/100\n",
      "2/2 [==============================] - 0s 3ms/step - loss: 10.9363 - mae: 10.9363\n",
      "Epoch 53/100\n",
      "2/2 [==============================] - 0s 7ms/step - loss: 15.4406 - mae: 15.4406\n",
      "Epoch 54/100\n",
      "2/2 [==============================] - 0s 5ms/step - loss: 7.8337 - mae: 7.8337\n",
      "Epoch 55/100\n",
      "2/2 [==============================] - 0s 5ms/step - loss: 16.4918 - mae: 16.4918\n",
      "Epoch 56/100\n",
      "2/2 [==============================] - 0s 7ms/step - loss: 9.7914 - mae: 9.7914\n",
      "Epoch 57/100\n",
      "2/2 [==============================] - 0s 8ms/step - loss: 9.3773 - mae: 9.3773\n",
      "Epoch 58/100\n",
      "2/2 [==============================] - 0s 7ms/step - loss: 8.6356 - mae: 8.6356\n",
      "Epoch 59/100\n",
      "2/2 [==============================] - 0s 7ms/step - loss: 7.9050 - mae: 7.9050\n",
      "Epoch 60/100\n",
      "2/2 [==============================] - 0s 9ms/step - loss: 8.9322 - mae: 8.9322\n",
      "Epoch 61/100\n",
      "2/2 [==============================] - 0s 5ms/step - loss: 10.7916 - mae: 10.7916\n",
      "Epoch 62/100\n",
      "2/2 [==============================] - 0s 5ms/step - loss: 11.5651 - mae: 11.5651\n",
      "Epoch 63/100\n",
      "2/2 [==============================] - 0s 8ms/step - loss: 7.3545 - mae: 7.3545\n",
      "Epoch 64/100\n",
      "2/2 [==============================] - 0s 5ms/step - loss: 10.7824 - mae: 10.7824\n",
      "Epoch 65/100\n",
      "2/2 [==============================] - 0s 5ms/step - loss: 11.8495 - mae: 11.8495\n",
      "Epoch 66/100\n",
      "2/2 [==============================] - 0s 9ms/step - loss: 12.3566 - mae: 12.3566\n",
      "Epoch 67/100\n",
      "2/2 [==============================] - 0s 5ms/step - loss: 7.2795 - mae: 7.2795\n",
      "Epoch 68/100\n",
      "2/2 [==============================] - 0s 4ms/step - loss: 10.6841 - mae: 10.6841\n",
      "Epoch 69/100\n",
      "2/2 [==============================] - 0s 5ms/step - loss: 11.4527 - mae: 11.4527\n",
      "Epoch 70/100\n",
      "2/2 [==============================] - 0s 6ms/step - loss: 8.7871 - mae: 8.7871\n",
      "Epoch 71/100\n",
      "2/2 [==============================] - 0s 21ms/step - loss: 9.8147 - mae: 9.8147\n",
      "Epoch 72/100\n",
      "2/2 [==============================] - 0s 5ms/step - loss: 9.7684 - mae: 9.7684\n",
      "Epoch 73/100\n",
      "2/2 [==============================] - 0s 4ms/step - loss: 12.5998 - mae: 12.5998\n",
      "Epoch 74/100\n",
      "2/2 [==============================] - 0s 4ms/step - loss: 10.2294 - mae: 10.2294\n",
      "Epoch 75/100\n",
      "2/2 [==============================] - 0s 27ms/step - loss: 9.1403 - mae: 9.1403\n",
      "Epoch 76/100\n",
      "2/2 [==============================] - 0s 5ms/step - loss: 10.5736 - mae: 10.5736\n",
      "Epoch 77/100\n",
      "2/2 [==============================] - 0s 6ms/step - loss: 10.6643 - mae: 10.6643\n",
      "Epoch 78/100\n",
      "2/2 [==============================] - 0s 6ms/step - loss: 11.3406 - mae: 11.3406\n",
      "Epoch 79/100\n",
      "2/2 [==============================] - 0s 6ms/step - loss: 14.5278 - mae: 14.5278\n",
      "Epoch 80/100\n",
      "2/2 [==============================] - 0s 5ms/step - loss: 8.4062 - mae: 8.4062\n",
      "Epoch 81/100\n",
      "2/2 [==============================] - 0s 6ms/step - loss: 10.1772 - mae: 10.1772\n",
      "Epoch 82/100\n",
      "2/2 [==============================] - 0s 5ms/step - loss: 8.0720 - mae: 8.0720\n",
      "Epoch 83/100\n",
      "2/2 [==============================] - 0s 4ms/step - loss: 8.6850 - mae: 8.6850\n",
      "Epoch 84/100\n",
      "2/2 [==============================] - 0s 6ms/step - loss: 8.4401 - mae: 8.4401\n",
      "Epoch 85/100\n",
      "2/2 [==============================] - 0s 5ms/step - loss: 12.7991 - mae: 12.7991\n",
      "Epoch 86/100\n",
      "2/2 [==============================] - 0s 5ms/step - loss: 13.5161 - mae: 13.5161\n",
      "Epoch 87/100\n",
      "2/2 [==============================] - 0s 6ms/step - loss: 12.9983 - mae: 12.9983\n",
      "Epoch 88/100\n",
      "2/2 [==============================] - 0s 5ms/step - loss: 11.2878 - mae: 11.2878\n",
      "Epoch 89/100\n",
      "2/2 [==============================] - 0s 8ms/step - loss: 7.3933 - mae: 7.3933\n",
      "Epoch 90/100\n",
      "2/2 [==============================] - 0s 4ms/step - loss: 10.7432 - mae: 10.7432\n",
      "Epoch 91/100\n",
      "2/2 [==============================] - 0s 5ms/step - loss: 6.5507 - mae: 6.5507\n",
      "Epoch 92/100\n",
      "2/2 [==============================] - 0s 6ms/step - loss: 10.0568 - mae: 10.0568\n",
      "Epoch 93/100\n",
      "2/2 [==============================] - 0s 5ms/step - loss: 11.9602 - mae: 11.9602\n",
      "Epoch 94/100\n",
      "2/2 [==============================] - 0s 5ms/step - loss: 8.8910 - mae: 8.8910\n",
      "Epoch 95/100\n",
      "2/2 [==============================] - 0s 4ms/step - loss: 7.0845 - mae: 7.0845\n",
      "Epoch 96/100\n",
      "2/2 [==============================] - 0s 4ms/step - loss: 6.3289 - mae: 6.3289\n",
      "Epoch 97/100\n",
      "2/2 [==============================] - 0s 4ms/step - loss: 17.3122 - mae: 17.3122\n",
      "Epoch 98/100\n",
      "2/2 [==============================] - 0s 4ms/step - loss: 7.4934 - mae: 7.4934\n",
      "Epoch 99/100\n",
      "2/2 [==============================] - 0s 5ms/step - loss: 7.9835 - mae: 7.9835\n",
      "Epoch 100/100\n",
      "2/2 [==============================] - 0s 4ms/step - loss: 13.7461 - mae: 13.7461\n"
     ]
    },
    {
     "data": {
      "text/plain": "<tensorflow.python.keras.callbacks.History at 0x1f46ad9a7c0>"
     },
     "execution_count": 18,
     "metadata": {},
     "output_type": "execute_result"
    }
   ]
  },
  {
   "cell_type": "code",
   "execution_count": 19,
   "outputs": [
    {
     "data": {
      "image/png": "[encoded data removed]",
      "text/plain": "<IPython.core.display.Image object>"
     },
     "execution_count": 19,
     "metadata": {},
     "output_type": "execute_result"
    }
   ],
   "source": [
    "from tensorflow.keras.utils import plot_model\n",
    "\n",
    "plot_model(model=model, show_shapes=True)"
   ],
   "metadata": {
    "collapsed": false,
    "pycharm": {
     "name": "#%%\n"
    }
   }
  },
  {
   "cell_type": "markdown",
   "source": [
    "## Model predictions"
   ],
   "metadata": {
    "collapsed": false,
    "pycharm": {
     "name": "#%% md\n"
    }
   }
  },
  {
   "cell_type": "code",
   "execution_count": 22,
   "outputs": [
    {
     "data": {
      "text/plain": "array([[43.78107 ],\n       [46.56981 ],\n       [49.358547],\n       [52.147285],\n       [54.936024],\n       [57.724762],\n       [60.5135  ],\n       [63.30224 ],\n       [66.09097 ],\n       [68.87971 ]], dtype=float32)"
     },
     "execution_count": 22,
     "metadata": {},
     "output_type": "execute_result"
    }
   ],
   "source": [
    "y_pred = model.predict(X_test)\n",
    "y_pred"
   ],
   "metadata": {
    "collapsed": false,
    "pycharm": {
     "name": "#%%\n"
    }
   }
  },
  {
   "cell_type": "code",
   "execution_count": 23,
   "outputs": [
    {
     "data": {
      "text/plain": "<tf.Tensor: shape=(10,), dtype=int32, numpy=array([ 70,  74,  78,  82,  86,  90,  94,  98, 102, 106])>"
     },
     "execution_count": 23,
     "metadata": {},
     "output_type": "execute_result"
    }
   ],
   "source": [
    "y_test"
   ],
   "metadata": {
    "collapsed": false,
    "pycharm": {
     "name": "#%%\n"
    }
   }
  },
  {
   "cell_type": "code",
   "execution_count": null,
   "outputs": [],
   "source": [],
   "metadata": {
    "collapsed": false,
    "pycharm": {
     "name": "#%%\n"
    }
   }
  }
 ],
 "metadata": {
  "kernelspec": {
   "display_name": "gpu_python",
   "language": "python",
   "name": "gpu_python"
  },
  "language_info": {
   "codemirror_mode": {
    "name": "ipython",
    "version": 3
   },
   "file_extension": ".py",
   "mimetype": "text/x-python",
   "name": "python",
   "nbconvert_exporter": "python",
   "pygments_lexer": "ipython3",
   "version": "3.8.13"
  }
 },
 "nbformat": 4,
 "nbformat_minor": 1
}