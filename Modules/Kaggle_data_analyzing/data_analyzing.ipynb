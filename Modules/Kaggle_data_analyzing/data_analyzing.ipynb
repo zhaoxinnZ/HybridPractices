{
 "cells": [
  {
   "cell_type": "code",
   "execution_count": 1,
   "metadata": {
    "collapsed": true
   },
   "outputs": [],
   "source": [
    "import tensorflow as tf\n",
    "import pandas as pd\n",
    "import tensorflow.keras\n",
    "from tensorflow.keras import layers\n",
    "import keras\n",
    "import matplotlib.pyplot as plt"
   ]
  },
  {
   "cell_type": "code",
   "execution_count": 2,
   "outputs": [],
   "source": [
    "# Dataset reading"
   ],
   "metadata": {
    "collapsed": false,
    "pycharm": {
     "name": "#%%\n"
    }
   }
  },
  {
   "cell_type": "code",
   "execution_count": 3,
   "outputs": [
    {
     "data": {
      "text/plain": "      age     sex     bmi  children smoker     region      charges\n0      19  female  27.900         0    yes  southwest  16884.92400\n1      18    male  33.770         1     no  southeast   1725.55230\n2      28    male  33.000         3     no  southeast   4449.46200\n3      33    male  22.705         0     no  northwest  21984.47061\n4      32    male  28.880         0     no  northwest   3866.85520\n...   ...     ...     ...       ...    ...        ...          ...\n1333   50    male  30.970         3     no  northwest  10600.54830\n1334   18  female  31.920         0     no  northeast   2205.98080\n1335   18  female  36.850         0     no  southeast   1629.83350\n1336   21  female  25.800         0     no  southwest   2007.94500\n1337   61  female  29.070         0    yes  northwest  29141.36030\n\n[1338 rows x 7 columns]",
      "text/html": "<div>\n<style scoped>\n    .dataframe tbody tr th:only-of-type {\n        vertical-align: middle;\n    }\n\n    .dataframe tbody tr th {\n        vertical-align: top;\n    }\n\n    .dataframe thead th {\n        text-align: right;\n    }\n</style>\n<table border=\"1\" class=\"dataframe\">\n  <thead>\n    <tr style=\"text-align: right;\">\n      <th></th>\n      <th>age</th>\n      <th>sex</th>\n      <th>bmi</th>\n      <th>children</th>\n      <th>smoker</th>\n      <th>region</th>\n      <th>charges</th>\n    </tr>\n  </thead>\n  <tbody>\n    <tr>\n      <th>0</th>\n      <td>19</td>\n      <td>female</td>\n      <td>27.900</td>\n      <td>0</td>\n      <td>yes</td>\n      <td>southwest</td>\n      <td>16884.92400</td>\n    </tr>\n    <tr>\n      <th>1</th>\n      <td>18</td>\n      <td>male</td>\n      <td>33.770</td>\n      <td>1</td>\n      <td>no</td>\n      <td>southeast</td>\n      <td>1725.55230</td>\n    </tr>\n    <tr>\n      <th>2</th>\n      <td>28</td>\n      <td>male</td>\n      <td>33.000</td>\n      <td>3</td>\n      <td>no</td>\n      <td>southeast</td>\n      <td>4449.46200</td>\n    </tr>\n    <tr>\n      <th>3</th>\n      <td>33</td>\n      <td>male</td>\n      <td>22.705</td>\n      <td>0</td>\n      <td>no</td>\n      <td>northwest</td>\n      <td>21984.47061</td>\n    </tr>\n    <tr>\n      <th>4</th>\n      <td>32</td>\n      <td>male</td>\n      <td>28.880</td>\n      <td>0</td>\n      <td>no</td>\n      <td>northwest</td>\n      <td>3866.85520</td>\n    </tr>\n    <tr>\n      <th>...</th>\n      <td>...</td>\n      <td>...</td>\n      <td>...</td>\n      <td>...</td>\n      <td>...</td>\n      <td>...</td>\n      <td>...</td>\n    </tr>\n    <tr>\n      <th>1333</th>\n      <td>50</td>\n      <td>male</td>\n      <td>30.970</td>\n      <td>3</td>\n      <td>no</td>\n      <td>northwest</td>\n      <td>10600.54830</td>\n    </tr>\n    <tr>\n      <th>1334</th>\n      <td>18</td>\n      <td>female</td>\n      <td>31.920</td>\n      <td>0</td>\n      <td>no</td>\n      <td>northeast</td>\n      <td>2205.98080</td>\n    </tr>\n    <tr>\n      <th>1335</th>\n      <td>18</td>\n      <td>female</td>\n      <td>36.850</td>\n      <td>0</td>\n      <td>no</td>\n      <td>southeast</td>\n      <td>1629.83350</td>\n    </tr>\n    <tr>\n      <th>1336</th>\n      <td>21</td>\n      <td>female</td>\n      <td>25.800</td>\n      <td>0</td>\n      <td>no</td>\n      <td>southwest</td>\n      <td>2007.94500</td>\n    </tr>\n    <tr>\n      <th>1337</th>\n      <td>61</td>\n      <td>female</td>\n      <td>29.070</td>\n      <td>0</td>\n      <td>yes</td>\n      <td>northwest</td>\n      <td>29141.36030</td>\n    </tr>\n  </tbody>\n</table>\n<p>1338 rows × 7 columns</p>\n</div>"
     },
     "execution_count": 3,
     "metadata": {},
     "output_type": "execute_result"
    }
   ],
   "source": [
    "insurance = pd.read_csv(\"insurance.csv\")\n",
    "insurance"
   ],
   "metadata": {
    "collapsed": false,
    "pycharm": {
     "name": "#%%\n"
    }
   }
  },
  {
   "cell_type": "code",
   "execution_count": 4,
   "outputs": [
    {
     "data": {
      "text/plain": "(0       19\n 1       18\n 2       28\n 3       33\n 4       32\n         ..\n 1333    50\n 1334    18\n 1335    18\n 1336    21\n 1337    61\n Name: age, Length: 1338, dtype: int64,\n 0       yes\n 1        no\n 2        no\n 3        no\n 4        no\n        ... \n 1333     no\n 1334     no\n 1335     no\n 1336     no\n 1337    yes\n Name: smoker, Length: 1338, dtype: object)"
     },
     "execution_count": 4,
     "metadata": {},
     "output_type": "execute_result"
    }
   ],
   "source": [
    "insurance[\"age\"], insurance[\"smoker\"]"
   ],
   "metadata": {
    "collapsed": false,
    "pycharm": {
     "name": "#%%\n"
    }
   }
  },
  {
   "cell_type": "code",
   "execution_count": 5,
   "outputs": [
    {
     "data": {
      "text/plain": "   age     bmi  children      charges  sex_female  sex_male  smoker_no  \\\n0   19  27.900         0  16884.92400           1         0          0   \n1   18  33.770         1   1725.55230           0         1          1   \n2   28  33.000         3   4449.46200           0         1          1   \n3   33  22.705         0  21984.47061           0         1          1   \n4   32  28.880         0   3866.85520           0         1          1   \n\n   smoker_yes  region_northeast  region_northwest  region_southeast  \\\n0           1                 0                 0                 0   \n1           0                 0                 0                 1   \n2           0                 0                 0                 1   \n3           0                 0                 1                 0   \n4           0                 0                 1                 0   \n\n   region_southwest  \n0                 1  \n1                 0  \n2                 0  \n3                 0  \n4                 0  ",
      "text/html": "<div>\n<style scoped>\n    .dataframe tbody tr th:only-of-type {\n        vertical-align: middle;\n    }\n\n    .dataframe tbody tr th {\n        vertical-align: top;\n    }\n\n    .dataframe thead th {\n        text-align: right;\n    }\n</style>\n<table border=\"1\" class=\"dataframe\">\n  <thead>\n    <tr style=\"text-align: right;\">\n      <th></th>\n      <th>age</th>\n      <th>bmi</th>\n      <th>children</th>\n      <th>charges</th>\n      <th>sex_female</th>\n      <th>sex_male</th>\n      <th>smoker_no</th>\n      <th>smoker_yes</th>\n      <th>region_northeast</th>\n      <th>region_northwest</th>\n      <th>region_southeast</th>\n      <th>region_southwest</th>\n    </tr>\n  </thead>\n  <tbody>\n    <tr>\n      <th>0</th>\n      <td>19</td>\n      <td>27.900</td>\n      <td>0</td>\n      <td>16884.92400</td>\n      <td>1</td>\n      <td>0</td>\n      <td>0</td>\n      <td>1</td>\n      <td>0</td>\n      <td>0</td>\n      <td>0</td>\n      <td>1</td>\n    </tr>\n    <tr>\n      <th>1</th>\n      <td>18</td>\n      <td>33.770</td>\n      <td>1</td>\n      <td>1725.55230</td>\n      <td>0</td>\n      <td>1</td>\n      <td>1</td>\n      <td>0</td>\n      <td>0</td>\n      <td>0</td>\n      <td>1</td>\n      <td>0</td>\n    </tr>\n    <tr>\n      <th>2</th>\n      <td>28</td>\n      <td>33.000</td>\n      <td>3</td>\n      <td>4449.46200</td>\n      <td>0</td>\n      <td>1</td>\n      <td>1</td>\n      <td>0</td>\n      <td>0</td>\n      <td>0</td>\n      <td>1</td>\n      <td>0</td>\n    </tr>\n    <tr>\n      <th>3</th>\n      <td>33</td>\n      <td>22.705</td>\n      <td>0</td>\n      <td>21984.47061</td>\n      <td>0</td>\n      <td>1</td>\n      <td>1</td>\n      <td>0</td>\n      <td>0</td>\n      <td>1</td>\n      <td>0</td>\n      <td>0</td>\n    </tr>\n    <tr>\n      <th>4</th>\n      <td>32</td>\n      <td>28.880</td>\n      <td>0</td>\n      <td>3866.85520</td>\n      <td>0</td>\n      <td>1</td>\n      <td>1</td>\n      <td>0</td>\n      <td>0</td>\n      <td>1</td>\n      <td>0</td>\n      <td>0</td>\n    </tr>\n  </tbody>\n</table>\n</div>"
     },
     "execution_count": 5,
     "metadata": {},
     "output_type": "execute_result"
    }
   ],
   "source": [
    "insurance_one_hot = pd.get_dummies(insurance)\n",
    "insurance_one_hot.head()"
   ],
   "metadata": {
    "collapsed": false,
    "pycharm": {
     "name": "#%%\n"
    }
   }
  },
  {
   "cell_type": "code",
   "execution_count": 6,
   "outputs": [],
   "source": [
    "X = insurance_one_hot.drop(\"charges\",axis=1)\n",
    "y = insurance_one_hot[\"charges\"]"
   ],
   "metadata": {
    "collapsed": false,
    "pycharm": {
     "name": "#%%\n"
    }
   }
  },
  {
   "cell_type": "code",
   "execution_count": 7,
   "outputs": [
    {
     "data": {
      "text/plain": "   age     bmi  children  sex_female  sex_male  smoker_no  smoker_yes  \\\n0   19  27.900         0           1         0          0           1   \n1   18  33.770         1           0         1          1           0   \n2   28  33.000         3           0         1          1           0   \n3   33  22.705         0           0         1          1           0   \n4   32  28.880         0           0         1          1           0   \n\n   region_northeast  region_northwest  region_southeast  region_southwest  \n0                 0                 0                 0                 1  \n1                 0                 0                 1                 0  \n2                 0                 0                 1                 0  \n3                 0                 1                 0                 0  \n4                 0                 1                 0                 0  ",
      "text/html": "<div>\n<style scoped>\n    .dataframe tbody tr th:only-of-type {\n        vertical-align: middle;\n    }\n\n    .dataframe tbody tr th {\n        vertical-align: top;\n    }\n\n    .dataframe thead th {\n        text-align: right;\n    }\n</style>\n<table border=\"1\" class=\"dataframe\">\n  <thead>\n    <tr style=\"text-align: right;\">\n      <th></th>\n      <th>age</th>\n      <th>bmi</th>\n      <th>children</th>\n      <th>sex_female</th>\n      <th>sex_male</th>\n      <th>smoker_no</th>\n      <th>smoker_yes</th>\n      <th>region_northeast</th>\n      <th>region_northwest</th>\n      <th>region_southeast</th>\n      <th>region_southwest</th>\n    </tr>\n  </thead>\n  <tbody>\n    <tr>\n      <th>0</th>\n      <td>19</td>\n      <td>27.900</td>\n      <td>0</td>\n      <td>1</td>\n      <td>0</td>\n      <td>0</td>\n      <td>1</td>\n      <td>0</td>\n      <td>0</td>\n      <td>0</td>\n      <td>1</td>\n    </tr>\n    <tr>\n      <th>1</th>\n      <td>18</td>\n      <td>33.770</td>\n      <td>1</td>\n      <td>0</td>\n      <td>1</td>\n      <td>1</td>\n      <td>0</td>\n      <td>0</td>\n      <td>0</td>\n      <td>1</td>\n      <td>0</td>\n    </tr>\n    <tr>\n      <th>2</th>\n      <td>28</td>\n      <td>33.000</td>\n      <td>3</td>\n      <td>0</td>\n      <td>1</td>\n      <td>1</td>\n      <td>0</td>\n      <td>0</td>\n      <td>0</td>\n      <td>1</td>\n      <td>0</td>\n    </tr>\n    <tr>\n      <th>3</th>\n      <td>33</td>\n      <td>22.705</td>\n      <td>0</td>\n      <td>0</td>\n      <td>1</td>\n      <td>1</td>\n      <td>0</td>\n      <td>0</td>\n      <td>1</td>\n      <td>0</td>\n      <td>0</td>\n    </tr>\n    <tr>\n      <th>4</th>\n      <td>32</td>\n      <td>28.880</td>\n      <td>0</td>\n      <td>0</td>\n      <td>1</td>\n      <td>1</td>\n      <td>0</td>\n      <td>0</td>\n      <td>1</td>\n      <td>0</td>\n      <td>0</td>\n    </tr>\n  </tbody>\n</table>\n</div>"
     },
     "execution_count": 7,
     "metadata": {},
     "output_type": "execute_result"
    }
   ],
   "source": [
    "X.head()"
   ],
   "metadata": {
    "collapsed": false,
    "pycharm": {
     "name": "#%%\n"
    }
   }
  },
  {
   "cell_type": "code",
   "execution_count": 8,
   "outputs": [
    {
     "data": {
      "text/plain": "0    16884.92400\n1     1725.55230\n2     4449.46200\n3    21984.47061\n4     3866.85520\nName: charges, dtype: float64"
     },
     "execution_count": 8,
     "metadata": {},
     "output_type": "execute_result"
    }
   ],
   "source": [
    "y.head()"
   ],
   "metadata": {
    "collapsed": false,
    "pycharm": {
     "name": "#%%\n"
    }
   }
  },
  {
   "cell_type": "code",
   "execution_count": 9,
   "outputs": [],
   "source": [
    "from sklearn.model_selection import train_test_split"
   ],
   "metadata": {
    "collapsed": false,
    "pycharm": {
     "name": "#%%\n"
    }
   }
  },
  {
   "cell_type": "code",
   "execution_count": 10,
   "outputs": [
    {
     "data": {
      "text/plain": "(1338, 1070, 268)"
     },
     "execution_count": 10,
     "metadata": {},
     "output_type": "execute_result"
    }
   ],
   "source": [
    "X_train, X_test, y_train, y_test = train_test_split(X, y, test_size=0.2, random_state=42)\n",
    "len(X), len(X_train), len(X_test)"
   ],
   "metadata": {
    "collapsed": false,
    "pycharm": {
     "name": "#%%\n"
    }
   }
  },
  {
   "cell_type": "code",
   "execution_count": 11,
   "outputs": [
    {
     "data": {
      "text/plain": "      age     bmi  children  sex_female  sex_male  smoker_no  smoker_yes  \\\n560    46  19.950         2           1         0          1           0   \n1285   47  24.320         0           1         0          1           0   \n1142   52  24.860         0           1         0          1           0   \n969    39  34.320         5           1         0          1           0   \n486    54  21.470         3           1         0          1           0   \n...   ...     ...       ...         ...       ...        ...         ...   \n1095   18  31.350         4           1         0          1           0   \n1130   39  23.870         5           1         0          1           0   \n1294   58  25.175         0           0         1          1           0   \n860    37  47.600         2           1         0          0           1   \n1126   55  29.900         0           0         1          1           0   \n\n      region_northeast  region_northwest  region_southeast  region_southwest  \n560                  0                 1                 0                 0  \n1285                 1                 0                 0                 0  \n1142                 0                 0                 1                 0  \n969                  0                 0                 1                 0  \n486                  0                 1                 0                 0  \n...                ...               ...               ...               ...  \n1095                 1                 0                 0                 0  \n1130                 0                 0                 1                 0  \n1294                 1                 0                 0                 0  \n860                  0                 0                 0                 1  \n1126                 0                 0                 0                 1  \n\n[1070 rows x 11 columns]",
      "text/html": "<div>\n<style scoped>\n    .dataframe tbody tr th:only-of-type {\n        vertical-align: middle;\n    }\n\n    .dataframe tbody tr th {\n        vertical-align: top;\n    }\n\n    .dataframe thead th {\n        text-align: right;\n    }\n</style>\n<table border=\"1\" class=\"dataframe\">\n  <thead>\n    <tr style=\"text-align: right;\">\n      <th></th>\n      <th>age</th>\n      <th>bmi</th>\n      <th>children</th>\n      <th>sex_female</th>\n      <th>sex_male</th>\n      <th>smoker_no</th>\n      <th>smoker_yes</th>\n      <th>region_northeast</th>\n      <th>region_northwest</th>\n      <th>region_southeast</th>\n      <th>region_southwest</th>\n    </tr>\n  </thead>\n  <tbody>\n    <tr>\n      <th>560</th>\n      <td>46</td>\n      <td>19.950</td>\n      <td>2</td>\n      <td>1</td>\n      <td>0</td>\n      <td>1</td>\n      <td>0</td>\n      <td>0</td>\n      <td>1</td>\n      <td>0</td>\n      <td>0</td>\n    </tr>\n    <tr>\n      <th>1285</th>\n      <td>47</td>\n      <td>24.320</td>\n      <td>0</td>\n      <td>1</td>\n      <td>0</td>\n      <td>1</td>\n      <td>0</td>\n      <td>1</td>\n      <td>0</td>\n      <td>0</td>\n      <td>0</td>\n    </tr>\n    <tr>\n      <th>1142</th>\n      <td>52</td>\n      <td>24.860</td>\n      <td>0</td>\n      <td>1</td>\n      <td>0</td>\n      <td>1</td>\n      <td>0</td>\n      <td>0</td>\n      <td>0</td>\n      <td>1</td>\n      <td>0</td>\n    </tr>\n    <tr>\n      <th>969</th>\n      <td>39</td>\n      <td>34.320</td>\n      <td>5</td>\n      <td>1</td>\n      <td>0</td>\n      <td>1</td>\n      <td>0</td>\n      <td>0</td>\n      <td>0</td>\n      <td>1</td>\n      <td>0</td>\n    </tr>\n    <tr>\n      <th>486</th>\n      <td>54</td>\n      <td>21.470</td>\n      <td>3</td>\n      <td>1</td>\n      <td>0</td>\n      <td>1</td>\n      <td>0</td>\n      <td>0</td>\n      <td>1</td>\n      <td>0</td>\n      <td>0</td>\n    </tr>\n    <tr>\n      <th>...</th>\n      <td>...</td>\n      <td>...</td>\n      <td>...</td>\n      <td>...</td>\n      <td>...</td>\n      <td>...</td>\n      <td>...</td>\n      <td>...</td>\n      <td>...</td>\n      <td>...</td>\n      <td>...</td>\n    </tr>\n    <tr>\n      <th>1095</th>\n      <td>18</td>\n      <td>31.350</td>\n      <td>4</td>\n      <td>1</td>\n      <td>0</td>\n      <td>1</td>\n      <td>0</td>\n      <td>1</td>\n      <td>0</td>\n      <td>0</td>\n      <td>0</td>\n    </tr>\n    <tr>\n      <th>1130</th>\n      <td>39</td>\n      <td>23.870</td>\n      <td>5</td>\n      <td>1</td>\n      <td>0</td>\n      <td>1</td>\n      <td>0</td>\n      <td>0</td>\n      <td>0</td>\n      <td>1</td>\n      <td>0</td>\n    </tr>\n    <tr>\n      <th>1294</th>\n      <td>58</td>\n      <td>25.175</td>\n      <td>0</td>\n      <td>0</td>\n      <td>1</td>\n      <td>1</td>\n      <td>0</td>\n      <td>1</td>\n      <td>0</td>\n      <td>0</td>\n      <td>0</td>\n    </tr>\n    <tr>\n      <th>860</th>\n      <td>37</td>\n      <td>47.600</td>\n      <td>2</td>\n      <td>1</td>\n      <td>0</td>\n      <td>0</td>\n      <td>1</td>\n      <td>0</td>\n      <td>0</td>\n      <td>0</td>\n      <td>1</td>\n    </tr>\n    <tr>\n      <th>1126</th>\n      <td>55</td>\n      <td>29.900</td>\n      <td>0</td>\n      <td>0</td>\n      <td>1</td>\n      <td>1</td>\n      <td>0</td>\n      <td>0</td>\n      <td>0</td>\n      <td>0</td>\n      <td>1</td>\n    </tr>\n  </tbody>\n</table>\n<p>1070 rows × 11 columns</p>\n</div>"
     },
     "execution_count": 11,
     "metadata": {},
     "output_type": "execute_result"
    }
   ],
   "source": [
    "X_train"
   ],
   "metadata": {
    "collapsed": false,
    "pycharm": {
     "name": "#%%\n"
    }
   }
  },
  {
   "cell_type": "markdown",
   "source": [
    "# Network Building"
   ],
   "metadata": {
    "collapsed": false,
    "pycharm": {
     "name": "#%% md\n"
    }
   }
  },
  {
   "cell_type": "code",
   "execution_count": 12,
   "outputs": [
    {
     "name": "stdout",
     "output_type": "stream",
     "text": [
      "Epoch 1/100\n",
      "34/34 [==============================] - 3s 4ms/step - loss: 13341.5918 - mae: 13341.5918\n",
      "Epoch 2/100\n",
      "34/34 [==============================] - 0s 4ms/step - loss: 13325.6846 - mae: 13325.6846\n",
      "Epoch 3/100\n",
      "34/34 [==============================] - 0s 4ms/step - loss: 13280.2646 - mae: 13280.2646\n",
      "Epoch 4/100\n",
      "34/34 [==============================] - 0s 4ms/step - loss: 13155.3428 - mae: 13155.3428\n",
      "Epoch 5/100\n",
      "34/34 [==============================] - 0s 4ms/step - loss: 12837.5693 - mae: 12837.5693\n",
      "Epoch 6/100\n",
      "34/34 [==============================] - 0s 4ms/step - loss: 12073.1572 - mae: 12073.1572\n",
      "Epoch 7/100\n",
      "34/34 [==============================] - 0s 4ms/step - loss: 10479.0654 - mae: 10479.0654\n",
      "Epoch 8/100\n",
      "34/34 [==============================] - 0s 4ms/step - loss: 8372.5303 - mae: 8372.5303\n",
      "Epoch 9/100\n",
      "34/34 [==============================] - 0s 4ms/step - loss: 7454.5405 - mae: 7454.5405\n",
      "Epoch 10/100\n",
      "34/34 [==============================] - 0s 4ms/step - loss: 7416.9844 - mae: 7416.9844\n",
      "Epoch 11/100\n",
      "34/34 [==============================] - 0s 4ms/step - loss: 7397.6201 - mae: 7397.6201\n",
      "Epoch 12/100\n",
      "34/34 [==============================] - 0s 4ms/step - loss: 7372.3813 - mae: 7372.3813\n",
      "Epoch 13/100\n",
      "34/34 [==============================] - 0s 4ms/step - loss: 7351.5381 - mae: 7351.5381\n",
      "Epoch 14/100\n",
      "34/34 [==============================] - 0s 5ms/step - loss: 7327.0752 - mae: 7327.0752\n",
      "Epoch 15/100\n",
      "34/34 [==============================] - 0s 7ms/step - loss: 7308.5234 - mae: 7308.5234\n",
      "Epoch 16/100\n",
      "34/34 [==============================] - 0s 5ms/step - loss: 7284.7227 - mae: 7284.7227\n",
      "Epoch 17/100\n",
      "34/34 [==============================] - 0s 5ms/step - loss: 7267.1431 - mae: 7267.1431\n",
      "Epoch 18/100\n",
      "34/34 [==============================] - 0s 5ms/step - loss: 7240.9624 - mae: 7240.9624\n",
      "Epoch 19/100\n",
      "34/34 [==============================] - 0s 5ms/step - loss: 7218.6836 - mae: 7218.6836\n",
      "Epoch 20/100\n",
      "34/34 [==============================] - 0s 6ms/step - loss: 7194.4912 - mae: 7194.4912\n",
      "Epoch 21/100\n",
      "34/34 [==============================] - 0s 7ms/step - loss: 7173.0986 - mae: 7173.0986\n",
      "Epoch 22/100\n",
      "34/34 [==============================] - 0s 5ms/step - loss: 7150.9282 - mae: 7150.9282\n",
      "Epoch 23/100\n",
      "34/34 [==============================] - 0s 5ms/step - loss: 7125.0088 - mae: 7125.0088\n",
      "Epoch 24/100\n",
      "34/34 [==============================] - 0s 5ms/step - loss: 7098.0195 - mae: 7098.0195\n",
      "Epoch 25/100\n",
      "34/34 [==============================] - 0s 5ms/step - loss: 7080.5352 - mae: 7080.5352\n",
      "Epoch 26/100\n",
      "34/34 [==============================] - 0s 5ms/step - loss: 7051.5039 - mae: 7051.5039\n",
      "Epoch 27/100\n",
      "34/34 [==============================] - 0s 5ms/step - loss: 7020.7622 - mae: 7020.7622\n",
      "Epoch 28/100\n",
      "34/34 [==============================] - 0s 5ms/step - loss: 6992.4717 - mae: 6992.4717\n",
      "Epoch 29/100\n",
      "34/34 [==============================] - 0s 5ms/step - loss: 6963.7979 - mae: 6963.7979\n",
      "Epoch 30/100\n",
      "34/34 [==============================] - 0s 5ms/step - loss: 6938.7168 - mae: 6938.7168\n",
      "Epoch 31/100\n",
      "34/34 [==============================] - 0s 5ms/step - loss: 6905.8521 - mae: 6905.8521\n",
      "Epoch 32/100\n",
      "34/34 [==============================] - 0s 5ms/step - loss: 6877.8931 - mae: 6877.8931\n",
      "Epoch 33/100\n",
      "34/34 [==============================] - 0s 7ms/step - loss: 6847.9360 - mae: 6847.9360\n",
      "Epoch 34/100\n",
      "34/34 [==============================] - 0s 6ms/step - loss: 6818.8242 - mae: 6818.8242\n",
      "Epoch 35/100\n",
      "34/34 [==============================] - 0s 6ms/step - loss: 6786.8530 - mae: 6786.8530\n",
      "Epoch 36/100\n",
      "34/34 [==============================] - 0s 5ms/step - loss: 6754.3140 - mae: 6754.3140\n",
      "Epoch 37/100\n",
      "34/34 [==============================] - 0s 5ms/step - loss: 6721.9351 - mae: 6721.9351\n",
      "Epoch 38/100\n",
      "34/34 [==============================] - 0s 5ms/step - loss: 6697.1519 - mae: 6697.1519\n",
      "Epoch 39/100\n",
      "34/34 [==============================] - 0s 4ms/step - loss: 6663.1904 - mae: 6663.1904\n",
      "Epoch 40/100\n",
      "34/34 [==============================] - 0s 5ms/step - loss: 6636.6675 - mae: 6636.6675\n",
      "Epoch 41/100\n",
      "34/34 [==============================] - 0s 5ms/step - loss: 6612.7261 - mae: 6612.7261\n",
      "Epoch 42/100\n",
      "34/34 [==============================] - 0s 5ms/step - loss: 6590.1313 - mae: 6590.1313\n",
      "Epoch 43/100\n",
      "34/34 [==============================] - 0s 5ms/step - loss: 6570.3232 - mae: 6570.3232\n",
      "Epoch 44/100\n",
      "34/34 [==============================] - 0s 5ms/step - loss: 6543.8433 - mae: 6543.8433\n",
      "Epoch 45/100\n",
      "34/34 [==============================] - 0s 4ms/step - loss: 6533.2383 - mae: 6533.2383\n",
      "Epoch 46/100\n",
      "34/34 [==============================] - 0s 5ms/step - loss: 6512.0791 - mae: 6512.0791\n",
      "Epoch 47/100\n",
      "34/34 [==============================] - 0s 5ms/step - loss: 6499.2231 - mae: 6499.2231\n",
      "Epoch 48/100\n",
      "34/34 [==============================] - 0s 5ms/step - loss: 6478.8887 - mae: 6478.8887\n",
      "Epoch 49/100\n",
      "34/34 [==============================] - 0s 6ms/step - loss: 6472.5381 - mae: 6472.5381\n",
      "Epoch 50/100\n",
      "34/34 [==============================] - 0s 5ms/step - loss: 6459.3311 - mae: 6459.3311\n",
      "Epoch 51/100\n",
      "34/34 [==============================] - 0s 5ms/step - loss: 6443.7886 - mae: 6443.7886\n",
      "Epoch 52/100\n",
      "34/34 [==============================] - 0s 5ms/step - loss: 6432.2021 - mae: 6432.2021\n",
      "Epoch 53/100\n",
      "34/34 [==============================] - 0s 6ms/step - loss: 6417.5405 - mae: 6417.5405\n",
      "Epoch 54/100\n",
      "34/34 [==============================] - 0s 5ms/step - loss: 6407.7598 - mae: 6407.7598\n",
      "Epoch 55/100\n",
      "34/34 [==============================] - 0s 4ms/step - loss: 6396.4263 - mae: 6396.4263\n",
      "Epoch 56/100\n",
      "34/34 [==============================] - 0s 5ms/step - loss: 6380.8149 - mae: 6380.8149\n",
      "Epoch 57/100\n",
      "34/34 [==============================] - 0s 5ms/step - loss: 6367.3511 - mae: 6367.3511\n",
      "Epoch 58/100\n",
      "34/34 [==============================] - 0s 5ms/step - loss: 6355.2090 - mae: 6355.2090\n",
      "Epoch 59/100\n",
      "34/34 [==============================] - 0s 5ms/step - loss: 6341.6528 - mae: 6341.6528\n",
      "Epoch 60/100\n",
      "34/34 [==============================] - 0s 5ms/step - loss: 6330.8076 - mae: 6330.8076\n",
      "Epoch 61/100\n",
      "34/34 [==============================] - 0s 5ms/step - loss: 6311.8232 - mae: 6311.8232\n",
      "Epoch 62/100\n",
      "34/34 [==============================] - 0s 5ms/step - loss: 6299.6348 - mae: 6299.6348\n",
      "Epoch 63/100\n",
      "34/34 [==============================] - 0s 5ms/step - loss: 6284.0220 - mae: 6284.0220\n",
      "Epoch 64/100\n",
      "34/34 [==============================] - 0s 5ms/step - loss: 6265.7329 - mae: 6265.7329\n",
      "Epoch 65/100\n",
      "34/34 [==============================] - 0s 5ms/step - loss: 6249.9512 - mae: 6249.9512\n",
      "Epoch 66/100\n",
      "34/34 [==============================] - 0s 5ms/step - loss: 6232.2983 - mae: 6232.2983\n",
      "Epoch 67/100\n",
      "34/34 [==============================] - 0s 5ms/step - loss: 6222.2866 - mae: 6222.2866\n",
      "Epoch 68/100\n",
      "34/34 [==============================] - 0s 5ms/step - loss: 6196.6021 - mae: 6196.6021\n",
      "Epoch 69/100\n",
      "34/34 [==============================] - 0s 6ms/step - loss: 6180.7788 - mae: 6180.7788\n",
      "Epoch 70/100\n",
      "34/34 [==============================] - 0s 5ms/step - loss: 6160.4932 - mae: 6160.4932\n",
      "Epoch 71/100\n",
      "34/34 [==============================] - 0s 6ms/step - loss: 6137.9194 - mae: 6137.9194\n",
      "Epoch 72/100\n",
      "34/34 [==============================] - 0s 5ms/step - loss: 6120.4355 - mae: 6120.4355\n",
      "Epoch 73/100\n",
      "34/34 [==============================] - 0s 6ms/step - loss: 6100.9810 - mae: 6100.9810\n",
      "Epoch 74/100\n",
      "34/34 [==============================] - 0s 5ms/step - loss: 6076.4688 - mae: 6076.4688\n",
      "Epoch 75/100\n",
      "34/34 [==============================] - 0s 6ms/step - loss: 6047.7173 - mae: 6047.7173\n",
      "Epoch 76/100\n",
      "34/34 [==============================] - 0s 4ms/step - loss: 6027.0850 - mae: 6027.0850\n",
      "Epoch 77/100\n",
      "34/34 [==============================] - 0s 6ms/step - loss: 5995.8022 - mae: 5995.8022\n",
      "Epoch 78/100\n",
      "34/34 [==============================] - 0s 5ms/step - loss: 5964.1772 - mae: 5964.1772\n",
      "Epoch 79/100\n",
      "34/34 [==============================] - 0s 6ms/step - loss: 5931.5708 - mae: 5931.5708\n",
      "Epoch 80/100\n",
      "34/34 [==============================] - 0s 5ms/step - loss: 5900.5283 - mae: 5900.5283\n",
      "Epoch 81/100\n",
      "34/34 [==============================] - 0s 6ms/step - loss: 5865.9478 - mae: 5865.9478\n",
      "Epoch 82/100\n",
      "34/34 [==============================] - 0s 4ms/step - loss: 5830.7939 - mae: 5830.7939\n",
      "Epoch 83/100\n",
      "34/34 [==============================] - 0s 5ms/step - loss: 5792.1309 - mae: 5792.1309\n",
      "Epoch 84/100\n",
      "34/34 [==============================] - 0s 5ms/step - loss: 5748.8242 - mae: 5748.8242\n",
      "Epoch 85/100\n",
      "34/34 [==============================] - 0s 5ms/step - loss: 5709.6714 - mae: 5709.6714\n",
      "Epoch 86/100\n",
      "34/34 [==============================] - 0s 6ms/step - loss: 5660.1519 - mae: 5660.1519\n",
      "Epoch 87/100\n",
      "34/34 [==============================] - 0s 5ms/step - loss: 5610.9429 - mae: 5610.9429\n",
      "Epoch 88/100\n",
      "34/34 [==============================] - 0s 6ms/step - loss: 5558.2163 - mae: 5558.2163\n",
      "Epoch 89/100\n",
      "34/34 [==============================] - 0s 5ms/step - loss: 5510.8975 - mae: 5510.8975\n",
      "Epoch 90/100\n",
      "34/34 [==============================] - 0s 5ms/step - loss: 5447.4263 - mae: 5447.4263\n",
      "Epoch 91/100\n",
      "34/34 [==============================] - 0s 5ms/step - loss: 5383.6641 - mae: 5383.6641\n",
      "Epoch 92/100\n",
      "34/34 [==============================] - 0s 6ms/step - loss: 5312.7485 - mae: 5312.7485\n",
      "Epoch 93/100\n",
      "34/34 [==============================] - 0s 5ms/step - loss: 5245.7578 - mae: 5245.7578\n",
      "Epoch 94/100\n",
      "34/34 [==============================] - 0s 5ms/step - loss: 5163.5449 - mae: 5163.5449\n",
      "Epoch 95/100\n",
      "34/34 [==============================] - 0s 6ms/step - loss: 5067.9761 - mae: 5067.9761\n",
      "Epoch 96/100\n",
      "34/34 [==============================] - 0s 6ms/step - loss: 4972.0298 - mae: 4972.0298\n",
      "Epoch 97/100\n",
      "34/34 [==============================] - 0s 5ms/step - loss: 4858.5879 - mae: 4858.5879\n",
      "Epoch 98/100\n",
      "34/34 [==============================] - 0s 6ms/step - loss: 4742.8589 - mae: 4742.8589\n",
      "Epoch 99/100\n",
      "34/34 [==============================] - 0s 5ms/step - loss: 4606.7017 - mae: 4606.7017\n",
      "Epoch 100/100\n",
      "34/34 [==============================] - 0s 5ms/step - loss: 4466.4663 - mae: 4466.4663\n",
      "Model: \"sequential\"\n",
      "_________________________________________________________________\n",
      "Layer (type)                 Output Shape              Param #   \n",
      "=================================================================\n",
      "dense (Dense)                (None, 10)                120       \n",
      "_________________________________________________________________\n",
      "dense_1 (Dense)              (None, 10)                110       \n",
      "_________________________________________________________________\n",
      "dense_2 (Dense)              (None, 10)                110       \n",
      "_________________________________________________________________\n",
      "dense_3 (Dense)              (None, 10)                110       \n",
      "_________________________________________________________________\n",
      "dense_4 (Dense)              (None, 1)                 11        \n",
      "=================================================================\n",
      "Total params: 461\n",
      "Trainable params: 461\n",
      "Non-trainable params: 0\n",
      "_________________________________________________________________\n"
     ]
    }
   ],
   "source": [
    "tf.random.set_seed(42)\n",
    "\n",
    "insurance_model = tf.keras.Sequential([\n",
    "    tf.keras.layers.Dense(10,activation=\"relu\"),\n",
    "    tf.keras.layers.Dense(10,activation=\"relu\"),\n",
    "    tf.keras.layers.Dense(10,activation=\"relu\"),\n",
    "    tf.keras.layers.Dense(10,activation=\"relu\"),\n",
    "    tf.keras.layers.Dense(1),\n",
    "])\n",
    "\n",
    "insurance_model.compile(loss=tf.keras.losses.mae,\n",
    "                        optimizer=tf.keras.optimizers.Adam(),\n",
    "                        metrics=[\"mae\"])\n",
    "\n",
    "history = insurance_model.fit(X_train, y_train,epochs=100)\n",
    "\n",
    "insurance_model.summary()"
   ],
   "metadata": {
    "collapsed": false,
    "pycharm": {
     "name": "#%%\n"
    }
   }
  },
  {
   "cell_type": "code",
   "execution_count": 13,
   "outputs": [
    {
     "name": "stdout",
     "output_type": "stream",
     "text": [
      "9/9 [==============================] - 0s 3ms/step - loss: 4254.8657 - mae: 4254.8657\n"
     ]
    },
    {
     "data": {
      "text/plain": "[4254.86572265625, 4254.86572265625]"
     },
     "execution_count": 13,
     "metadata": {},
     "output_type": "execute_result"
    }
   ],
   "source": [
    "insurance_model.evaluate(X_test, y_test)"
   ],
   "metadata": {
    "collapsed": false,
    "pycharm": {
     "name": "#%%\n"
    }
   }
  },
  {
   "cell_type": "code",
   "execution_count": 14,
   "outputs": [
    {
     "data": {
      "text/plain": "Text(0.5, 0, 'epochs')"
     },
     "execution_count": 14,
     "metadata": {},
     "output_type": "execute_result"
    },
    {
     "data": {
      "text/plain": "<Figure size 432x288 with 1 Axes>",
      "image/png": "[encoded data removed]"
     },
     "metadata": {
      "needs_background": "light"
     },
     "output_type": "display_data"
    }
   ],
   "source": [
    "pd.DataFrame(history.history).plot()\n",
    "plt.ylabel(\"loss\")\n",
    "plt.xlabel(\"epochs\")"
   ],
   "metadata": {
    "collapsed": false,
    "pycharm": {
     "name": "#%%\n"
    }
   }
  },
  {
   "cell_type": "markdown",
   "source": [
    "# Data Preprocessing"
   ],
   "metadata": {
    "collapsed": false,
    "pycharm": {
     "name": "#%% md\n"
    }
   }
  },
  {
   "cell_type": "code",
   "execution_count": 21,
   "outputs": [
    {
     "data": {
      "text/plain": "<AxesSubplot:ylabel='Frequency'>"
     },
     "execution_count": 21,
     "metadata": {},
     "output_type": "execute_result"
    },
    {
     "data": {
      "text/plain": "<Figure size 432x288 with 1 Axes>",
      "image/png": "[encoded data removed]"
     },
     "metadata": {
      "needs_background": "light"
     },
     "output_type": "display_data"
    }
   ],
   "source": [
    "X[\"age\"].plot(kind=\"hist\")"
   ],
   "metadata": {
    "collapsed": false,
    "pycharm": {
     "name": "#%%\n"
    }
   }
  },
  {
   "cell_type": "code",
   "execution_count": 23,
   "outputs": [
    {
     "data": {
      "text/plain": "<AxesSubplot:ylabel='Frequency'>"
     },
     "execution_count": 23,
     "metadata": {},
     "output_type": "execute_result"
    },
    {
     "data": {
      "text/plain": "<Figure size 432x288 with 1 Axes>",
      "image/png": "[encoded data removed]"
     },
     "metadata": {
      "needs_background": "light"
     },
     "output_type": "display_data"
    }
   ],
   "source": [
    "X[\"bmi\"].plot(kind=\"hist\")"
   ],
   "metadata": {
    "collapsed": false,
    "pycharm": {
     "name": "#%%\n"
    }
   }
  },
  {
   "cell_type": "code",
   "execution_count": 24,
   "outputs": [
    {
     "data": {
      "text/plain": "      age     sex     bmi  children smoker     region      charges\n0      19  female  27.900         0    yes  southwest  16884.92400\n1      18    male  33.770         1     no  southeast   1725.55230\n2      28    male  33.000         3     no  southeast   4449.46200\n3      33    male  22.705         0     no  northwest  21984.47061\n4      32    male  28.880         0     no  northwest   3866.85520\n...   ...     ...     ...       ...    ...        ...          ...\n1333   50    male  30.970         3     no  northwest  10600.54830\n1334   18  female  31.920         0     no  northeast   2205.98080\n1335   18  female  36.850         0     no  southeast   1629.83350\n1336   21  female  25.800         0     no  southwest   2007.94500\n1337   61  female  29.070         0    yes  northwest  29141.36030\n\n[1338 rows x 7 columns]",
      "text/html": "<div>\n<style scoped>\n    .dataframe tbody tr th:only-of-type {\n        vertical-align: middle;\n    }\n\n    .dataframe tbody tr th {\n        vertical-align: top;\n    }\n\n    .dataframe thead th {\n        text-align: right;\n    }\n</style>\n<table border=\"1\" class=\"dataframe\">\n  <thead>\n    <tr style=\"text-align: right;\">\n      <th></th>\n      <th>age</th>\n      <th>sex</th>\n      <th>bmi</th>\n      <th>children</th>\n      <th>smoker</th>\n      <th>region</th>\n      <th>charges</th>\n    </tr>\n  </thead>\n  <tbody>\n    <tr>\n      <th>0</th>\n      <td>19</td>\n      <td>female</td>\n      <td>27.900</td>\n      <td>0</td>\n      <td>yes</td>\n      <td>southwest</td>\n      <td>16884.92400</td>\n    </tr>\n    <tr>\n      <th>1</th>\n      <td>18</td>\n      <td>male</td>\n      <td>33.770</td>\n      <td>1</td>\n      <td>no</td>\n      <td>southeast</td>\n      <td>1725.55230</td>\n    </tr>\n    <tr>\n      <th>2</th>\n      <td>28</td>\n      <td>male</td>\n      <td>33.000</td>\n      <td>3</td>\n      <td>no</td>\n      <td>southeast</td>\n      <td>4449.46200</td>\n    </tr>\n    <tr>\n      <th>3</th>\n      <td>33</td>\n      <td>male</td>\n      <td>22.705</td>\n      <td>0</td>\n      <td>no</td>\n      <td>northwest</td>\n      <td>21984.47061</td>\n    </tr>\n    <tr>\n      <th>4</th>\n      <td>32</td>\n      <td>male</td>\n      <td>28.880</td>\n      <td>0</td>\n      <td>no</td>\n      <td>northwest</td>\n      <td>3866.85520</td>\n    </tr>\n    <tr>\n      <th>...</th>\n      <td>...</td>\n      <td>...</td>\n      <td>...</td>\n      <td>...</td>\n      <td>...</td>\n      <td>...</td>\n      <td>...</td>\n    </tr>\n    <tr>\n      <th>1333</th>\n      <td>50</td>\n      <td>male</td>\n      <td>30.970</td>\n      <td>3</td>\n      <td>no</td>\n      <td>northwest</td>\n      <td>10600.54830</td>\n    </tr>\n    <tr>\n      <th>1334</th>\n      <td>18</td>\n      <td>female</td>\n      <td>31.920</td>\n      <td>0</td>\n      <td>no</td>\n      <td>northeast</td>\n      <td>2205.98080</td>\n    </tr>\n    <tr>\n      <th>1335</th>\n      <td>18</td>\n      <td>female</td>\n      <td>36.850</td>\n      <td>0</td>\n      <td>no</td>\n      <td>southeast</td>\n      <td>1629.83350</td>\n    </tr>\n    <tr>\n      <th>1336</th>\n      <td>21</td>\n      <td>female</td>\n      <td>25.800</td>\n      <td>0</td>\n      <td>no</td>\n      <td>southwest</td>\n      <td>2007.94500</td>\n    </tr>\n    <tr>\n      <th>1337</th>\n      <td>61</td>\n      <td>female</td>\n      <td>29.070</td>\n      <td>0</td>\n      <td>yes</td>\n      <td>northwest</td>\n      <td>29141.36030</td>\n    </tr>\n  </tbody>\n</table>\n<p>1338 rows × 7 columns</p>\n</div>"
     },
     "execution_count": 24,
     "metadata": {},
     "output_type": "execute_result"
    }
   ],
   "source": [
    "import pandas as pd\n",
    "import matplotlib.pyplot as plt\n",
    "import tensorflow as tf\n",
    "\n",
    "insurance = pd.read_csv(\"insurance.csv\")\n",
    "insurance"
   ],
   "metadata": {
    "collapsed": false,
    "pycharm": {
     "name": "#%%\n"
    }
   }
  },
  {
   "cell_type": "code",
   "execution_count": 28,
   "outputs": [],
   "source": [
    "from sklearn.compose import make_column_transformer\n",
    "from sklearn.preprocessing import MinMaxScaler, OneHotEncoder\n",
    "from sklearn.model_selection import train_test_split\n",
    "\n",
    "ct = make_column_transformer(\n",
    "    (MinMaxScaler(), [\"age\", \"bmi\", \"children\"]),\n",
    "    (OneHotEncoder(handle_unknown=\"ignore\"), [\"sex\", \"smoker\", \"region\"])\n",
    ")\n",
    "\n",
    "X = insurance.drop(\"charges\", axis=1)\n",
    "y = insurance[\"charges\"]\n",
    "\n",
    "X_train, X_test, y_train, y_test = train_test_split(X, y, test_size=0.2, random_state=42)\n",
    "\n",
    "ct.fit(X_train)\n",
    "\n",
    "X_train_normal = ct.transform(X_train)\n",
    "X_test_normal = ct.transform(X_test)"
   ],
   "metadata": {
    "collapsed": false,
    "pycharm": {
     "name": "#%%\n"
    }
   }
  },
  {
   "cell_type": "code",
   "execution_count": 30,
   "outputs": [
    {
     "data": {
      "text/plain": "age                19\nsex            female\nbmi              27.9\nchildren            0\nsmoker            yes\nregion      southwest\nName: 0, dtype: object"
     },
     "execution_count": 30,
     "metadata": {},
     "output_type": "execute_result"
    }
   ],
   "source": [
    "X_train.loc[0]"
   ],
   "metadata": {
    "collapsed": false,
    "pycharm": {
     "name": "#%%\n"
    }
   }
  },
  {
   "cell_type": "code",
   "execution_count": 36,
   "outputs": [
    {
     "data": {
      "text/plain": "array([[0.60869565, 0.10734463, 0.4       , ..., 1.        , 0.        ,\n        0.        ],\n       [0.63043478, 0.22491256, 0.        , ..., 0.        , 0.        ,\n        0.        ],\n       [0.73913043, 0.23944041, 0.        , ..., 0.        , 1.        ,\n        0.        ],\n       ...,\n       [0.86956522, 0.24791499, 0.        , ..., 0.        , 0.        ,\n        0.        ],\n       [0.41304348, 0.85122411, 0.4       , ..., 0.        , 0.        ,\n        1.        ],\n       [0.80434783, 0.37503363, 0.        , ..., 0.        , 0.        ,\n        1.        ]])"
     },
     "execution_count": 36,
     "metadata": {},
     "output_type": "execute_result"
    }
   ],
   "source": [
    "X_train_normal"
   ],
   "metadata": {
    "collapsed": false,
    "pycharm": {
     "name": "#%%\n"
    }
   }
  },
  {
   "cell_type": "code",
   "execution_count": 37,
   "outputs": [
    {
     "data": {
      "text/plain": "((1070, 6), (1070, 11))"
     },
     "execution_count": 37,
     "metadata": {},
     "output_type": "execute_result"
    }
   ],
   "source": [
    "X_train.shape, X_train_normal.shape"
   ],
   "metadata": {
    "collapsed": false,
    "pycharm": {
     "name": "#%%\n"
    }
   }
  },
  {
   "cell_type": "code",
   "execution_count": 41,
   "outputs": [
    {
     "name": "stdout",
     "output_type": "stream",
     "text": [
      "Epoch 1/100\n",
      "34/34 [==============================] - 1s 5ms/step - loss: 13342.6494 - mae: 13342.6494\n",
      "Epoch 2/100\n",
      "34/34 [==============================] - 0s 7ms/step - loss: 13333.4795 - mae: 13333.4795\n",
      "Epoch 3/100\n",
      "34/34 [==============================] - 0s 5ms/step - loss: 13312.0234 - mae: 13312.0234\n",
      "Epoch 4/100\n",
      "34/34 [==============================] - 0s 6ms/step - loss: 13267.7930 - mae: 13267.7930\n",
      "Epoch 5/100\n",
      "34/34 [==============================] - 0s 5ms/step - loss: 13189.5850 - mae: 13189.5850\n",
      "Epoch 6/100\n",
      "34/34 [==============================] - 0s 6ms/step - loss: 13066.4482 - mae: 13066.4482\n",
      "Epoch 7/100\n",
      "34/34 [==============================] - 0s 4ms/step - loss: 12888.1953 - mae: 12888.1953\n",
      "Epoch 8/100\n",
      "34/34 [==============================] - 0s 4ms/step - loss: 12644.6523 - mae: 12644.6523\n",
      "Epoch 9/100\n",
      "34/34 [==============================] - 0s 4ms/step - loss: 12325.5469 - mae: 12325.5469\n",
      "Epoch 10/100\n",
      "34/34 [==============================] - 0s 4ms/step - loss: 11925.9658 - mae: 11925.9658\n",
      "Epoch 11/100\n",
      "34/34 [==============================] - 0s 4ms/step - loss: 11454.3350 - mae: 11454.3350\n",
      "Epoch 12/100\n",
      "34/34 [==============================] - 0s 4ms/step - loss: 10949.8066 - mae: 10949.8066\n",
      "Epoch 13/100\n",
      "34/34 [==============================] - 0s 4ms/step - loss: 10448.9404 - mae: 10448.9404\n",
      "Epoch 14/100\n",
      "34/34 [==============================] - 0s 4ms/step - loss: 9951.6250 - mae: 9951.6250\n",
      "Epoch 15/100\n",
      "34/34 [==============================] - 0s 4ms/step - loss: 9482.7422 - mae: 9482.7422\n",
      "Epoch 16/100\n",
      "34/34 [==============================] - 0s 4ms/step - loss: 9066.7461 - mae: 9066.7461\n",
      "Epoch 17/100\n",
      "34/34 [==============================] - 0s 4ms/step - loss: 8721.9844 - mae: 8721.9844\n",
      "Epoch 18/100\n",
      "34/34 [==============================] - 0s 4ms/step - loss: 8441.1992 - mae: 8441.1992\n",
      "Epoch 19/100\n",
      "34/34 [==============================] - 0s 4ms/step - loss: 8227.5117 - mae: 8227.5117\n",
      "Epoch 20/100\n",
      "34/34 [==============================] - 0s 5ms/step - loss: 8081.9775 - mae: 8081.9775\n",
      "Epoch 21/100\n",
      "34/34 [==============================] - 0s 5ms/step - loss: 7973.8936 - mae: 7973.8936\n",
      "Epoch 22/100\n",
      "34/34 [==============================] - 0s 5ms/step - loss: 7899.1597 - mae: 7899.1597\n",
      "Epoch 23/100\n",
      "34/34 [==============================] - 0s 5ms/step - loss: 7840.3906 - mae: 7840.3906\n",
      "Epoch 24/100\n",
      "34/34 [==============================] - 0s 4ms/step - loss: 7787.9619 - mae: 7787.9619\n",
      "Epoch 25/100\n",
      "34/34 [==============================] - 0s 6ms/step - loss: 7749.2622 - mae: 7749.2622\n",
      "Epoch 26/100\n",
      "34/34 [==============================] - 0s 4ms/step - loss: 7697.9604 - mae: 7697.9604\n",
      "Epoch 27/100\n",
      "34/34 [==============================] - 0s 5ms/step - loss: 7656.0273 - mae: 7656.0273\n",
      "Epoch 28/100\n",
      "34/34 [==============================] - 0s 5ms/step - loss: 7613.4780 - mae: 7613.4780\n",
      "Epoch 29/100\n",
      "34/34 [==============================] - 0s 4ms/step - loss: 7570.9482 - mae: 7570.9482\n",
      "Epoch 30/100\n",
      "34/34 [==============================] - 0s 6ms/step - loss: 7527.4175 - mae: 7527.4175\n",
      "Epoch 31/100\n",
      "34/34 [==============================] - 0s 4ms/step - loss: 7483.5947 - mae: 7483.5947\n",
      "Epoch 32/100\n",
      "34/34 [==============================] - 0s 4ms/step - loss: 7439.4419 - mae: 7439.4419\n",
      "Epoch 33/100\n",
      "34/34 [==============================] - 0s 4ms/step - loss: 7395.0557 - mae: 7395.0557\n",
      "Epoch 34/100\n",
      "34/34 [==============================] - 0s 4ms/step - loss: 7346.8125 - mae: 7346.8125\n",
      "Epoch 35/100\n",
      "34/34 [==============================] - 0s 3ms/step - loss: 7300.0488 - mae: 7300.0488\n",
      "Epoch 36/100\n",
      "34/34 [==============================] - 0s 4ms/step - loss: 7249.8452 - mae: 7249.8452\n",
      "Epoch 37/100\n",
      "34/34 [==============================] - 0s 4ms/step - loss: 7199.5308 - mae: 7199.5308\n",
      "Epoch 38/100\n",
      "34/34 [==============================] - 0s 4ms/step - loss: 7148.4805 - mae: 7148.4805\n",
      "Epoch 39/100\n",
      "34/34 [==============================] - 0s 4ms/step - loss: 7093.6650 - mae: 7093.6650\n",
      "Epoch 40/100\n",
      "34/34 [==============================] - 0s 5ms/step - loss: 7038.1797 - mae: 7038.1797\n",
      "Epoch 41/100\n",
      "34/34 [==============================] - 0s 4ms/step - loss: 6981.7397 - mae: 6981.7397\n",
      "Epoch 42/100\n",
      "34/34 [==============================] - 0s 5ms/step - loss: 6922.7847 - mae: 6922.7847\n",
      "Epoch 43/100\n",
      "34/34 [==============================] - 0s 4ms/step - loss: 6860.1724 - mae: 6860.1724\n",
      "Epoch 44/100\n",
      "34/34 [==============================] - 0s 5ms/step - loss: 6793.7969 - mae: 6793.7969\n",
      "Epoch 45/100\n",
      "34/34 [==============================] - 0s 6ms/step - loss: 6726.6201 - mae: 6726.6201\n",
      "Epoch 46/100\n",
      "34/34 [==============================] - 0s 5ms/step - loss: 6657.4683 - mae: 6657.4683\n",
      "Epoch 47/100\n",
      "34/34 [==============================] - 0s 6ms/step - loss: 6586.3086 - mae: 6586.3086\n",
      "Epoch 48/100\n",
      "34/34 [==============================] - 0s 4ms/step - loss: 6507.5063 - mae: 6507.5063\n",
      "Epoch 49/100\n",
      "34/34 [==============================] - 0s 4ms/step - loss: 6428.6025 - mae: 6428.6025\n",
      "Epoch 50/100\n",
      "34/34 [==============================] - 0s 4ms/step - loss: 6342.7104 - mae: 6342.7104\n",
      "Epoch 51/100\n",
      "34/34 [==============================] - 0s 4ms/step - loss: 6258.0718 - mae: 6258.0718\n",
      "Epoch 52/100\n",
      "34/34 [==============================] - 0s 4ms/step - loss: 6164.7051 - mae: 6164.7051\n",
      "Epoch 53/100\n",
      "34/34 [==============================] - 0s 4ms/step - loss: 6068.6748 - mae: 6068.6748\n",
      "Epoch 54/100\n",
      "34/34 [==============================] - 0s 4ms/step - loss: 5970.0981 - mae: 5970.0981\n",
      "Epoch 55/100\n",
      "34/34 [==============================] - 0s 5ms/step - loss: 5862.5625 - mae: 5862.5625\n",
      "Epoch 56/100\n",
      "34/34 [==============================] - 0s 4ms/step - loss: 5753.9526 - mae: 5753.9526\n",
      "Epoch 57/100\n",
      "34/34 [==============================] - 0s 4ms/step - loss: 5638.0947 - mae: 5638.0947\n",
      "Epoch 58/100\n",
      "34/34 [==============================] - 0s 5ms/step - loss: 5519.8691 - mae: 5519.8691\n",
      "Epoch 59/100\n",
      "34/34 [==============================] - 0s 4ms/step - loss: 5401.3208 - mae: 5401.3208\n",
      "Epoch 60/100\n",
      "34/34 [==============================] - 0s 6ms/step - loss: 5277.3506 - mae: 5277.3506\n",
      "Epoch 61/100\n",
      "34/34 [==============================] - 0s 4ms/step - loss: 5149.7642 - mae: 5149.7642\n",
      "Epoch 62/100\n",
      "34/34 [==============================] - 0s 6ms/step - loss: 5019.3535 - mae: 5019.3535\n",
      "Epoch 63/100\n",
      "34/34 [==============================] - 0s 5ms/step - loss: 4889.6865 - mae: 4889.6865\n",
      "Epoch 64/100\n",
      "34/34 [==============================] - 0s 4ms/step - loss: 4756.8564 - mae: 4756.8564\n",
      "Epoch 65/100\n",
      "34/34 [==============================] - 0s 5ms/step - loss: 4629.4370 - mae: 4629.4370\n",
      "Epoch 66/100\n",
      "34/34 [==============================] - 0s 4ms/step - loss: 4503.6001 - mae: 4503.6001\n",
      "Epoch 67/100\n",
      "34/34 [==============================] - 0s 4ms/step - loss: 4392.9927 - mae: 4392.9927\n",
      "Epoch 68/100\n",
      "34/34 [==============================] - 0s 4ms/step - loss: 4284.3867 - mae: 4284.3867\n",
      "Epoch 69/100\n",
      "34/34 [==============================] - 0s 4ms/step - loss: 4182.6182 - mae: 4182.6182\n",
      "Epoch 70/100\n",
      "34/34 [==============================] - 0s 5ms/step - loss: 4089.5725 - mae: 4089.5725\n",
      "Epoch 71/100\n",
      "34/34 [==============================] - 0s 4ms/step - loss: 4003.3901 - mae: 4003.3901\n",
      "Epoch 72/100\n",
      "34/34 [==============================] - 0s 4ms/step - loss: 3929.0093 - mae: 3929.0093\n",
      "Epoch 73/100\n",
      "34/34 [==============================] - 0s 4ms/step - loss: 3866.3110 - mae: 3866.3110\n",
      "Epoch 74/100\n",
      "34/34 [==============================] - 0s 4ms/step - loss: 3813.7146 - mae: 3813.7146\n",
      "Epoch 75/100\n",
      "34/34 [==============================] - 0s 4ms/step - loss: 3773.0320 - mae: 3773.0320\n",
      "Epoch 76/100\n",
      "34/34 [==============================] - 0s 4ms/step - loss: 3744.1997 - mae: 3744.1997\n",
      "Epoch 77/100\n",
      "34/34 [==============================] - 0s 4ms/step - loss: 3719.6870 - mae: 3719.6870\n",
      "Epoch 78/100\n",
      "34/34 [==============================] - 0s 5ms/step - loss: 3702.9116 - mae: 3702.9116\n",
      "Epoch 79/100\n",
      "34/34 [==============================] - 0s 5ms/step - loss: 3691.8794 - mae: 3691.8794\n",
      "Epoch 80/100\n",
      "34/34 [==============================] - 0s 4ms/step - loss: 3682.8350 - mae: 3682.8350\n",
      "Epoch 81/100\n",
      "34/34 [==============================] - 0s 5ms/step - loss: 3676.9768 - mae: 3676.9768\n",
      "Epoch 82/100\n",
      "34/34 [==============================] - 0s 5ms/step - loss: 3673.9492 - mae: 3673.9492\n",
      "Epoch 83/100\n",
      "34/34 [==============================] - 0s 5ms/step - loss: 3667.8452 - mae: 3667.8452\n",
      "Epoch 84/100\n",
      "34/34 [==============================] - 0s 5ms/step - loss: 3664.5759 - mae: 3664.5759\n",
      "Epoch 85/100\n",
      "34/34 [==============================] - 0s 5ms/step - loss: 3661.8562 - mae: 3661.8562\n",
      "Epoch 86/100\n",
      "34/34 [==============================] - 0s 5ms/step - loss: 3660.3047 - mae: 3660.3047\n",
      "Epoch 87/100\n",
      "34/34 [==============================] - 0s 5ms/step - loss: 3657.5134 - mae: 3657.5134\n",
      "Epoch 88/100\n",
      "34/34 [==============================] - 0s 4ms/step - loss: 3655.2202 - mae: 3655.2202\n",
      "Epoch 89/100\n",
      "34/34 [==============================] - 0s 4ms/step - loss: 3653.8833 - mae: 3653.8833\n",
      "Epoch 90/100\n",
      "34/34 [==============================] - 0s 4ms/step - loss: 3652.0193 - mae: 3652.0193\n",
      "Epoch 91/100\n",
      "34/34 [==============================] - 0s 5ms/step - loss: 3648.9990 - mae: 3648.9990\n",
      "Epoch 92/100\n",
      "34/34 [==============================] - 0s 5ms/step - loss: 3648.4463 - mae: 3648.4463\n",
      "Epoch 93/100\n",
      "34/34 [==============================] - 0s 4ms/step - loss: 3646.2300 - mae: 3646.2300\n",
      "Epoch 94/100\n",
      "34/34 [==============================] - 0s 5ms/step - loss: 3644.4377 - mae: 3644.4377\n",
      "Epoch 95/100\n",
      "34/34 [==============================] - 0s 4ms/step - loss: 3645.8770 - mae: 3645.8770\n",
      "Epoch 96/100\n",
      "34/34 [==============================] - 0s 3ms/step - loss: 3642.2573 - mae: 3642.2573\n",
      "Epoch 97/100\n",
      "34/34 [==============================] - 0s 5ms/step - loss: 3640.1184 - mae: 3640.1184\n",
      "Epoch 98/100\n",
      "34/34 [==============================] - 0s 4ms/step - loss: 3638.0649 - mae: 3638.0649\n",
      "Epoch 99/100\n",
      "34/34 [==============================] - 0s 6ms/step - loss: 3637.2053 - mae: 3637.2053\n",
      "Epoch 100/100\n",
      "34/34 [==============================] - 0s 4ms/step - loss: 3636.1707 - mae: 3636.1707\n"
     ]
    },
    {
     "data": {
      "text/plain": "<tensorflow.python.keras.callbacks.History at 0x1eff90742b0>"
     },
     "execution_count": 41,
     "metadata": {},
     "output_type": "execute_result"
    }
   ],
   "source": [
    "tf.random.set_seed(42)\n",
    "\n",
    "insurance_model = tf.keras.Sequential([\n",
    "    tf.keras.layers.Dense(100),\n",
    "    tf.keras.layers.Dense(10),\n",
    "    tf.keras.layers.Dense(1)\n",
    "])\n",
    "\n",
    "insurance_model.compile(loss=keras.losses.mae,\n",
    "                        optimizer=tf.keras.optimizers.Adam(),\n",
    "                        metrics=[\"mae\"])\n",
    "\n",
    "insurance_model.fit(X_train_normal, y_train, epochs=100)"
   ],
   "metadata": {
    "collapsed": false,
    "pycharm": {
     "name": "#%%\n"
    }
   }
  },
  {
   "cell_type": "code",
   "execution_count": 43,
   "outputs": [
    {
     "name": "stdout",
     "output_type": "stream",
     "text": [
      "9/9 [==============================] - 0s 3ms/step - loss: 3438.7844 - mae: 3438.7844\n"
     ]
    },
    {
     "data": {
      "text/plain": "[3438.784423828125, 3438.784423828125]"
     },
     "execution_count": 43,
     "metadata": {},
     "output_type": "execute_result"
    }
   ],
   "source": [
    "insurance_model.evaluate(X_test_normal, y_test)"
   ],
   "metadata": {
    "collapsed": false,
    "pycharm": {
     "name": "#%%\n"
    }
   }
  },
  {
   "cell_type": "code",
   "execution_count": 44,
   "outputs": [
    {
     "name": "stdout",
     "output_type": "stream",
     "text": [
      "Model: \"sequential_2\"\n",
      "_________________________________________________________________\n",
      "Layer (type)                 Output Shape              Param #   \n",
      "=================================================================\n",
      "dense_8 (Dense)              (None, 100)               1200      \n",
      "_________________________________________________________________\n",
      "dense_9 (Dense)              (None, 10)                1010      \n",
      "_________________________________________________________________\n",
      "dense_10 (Dense)             (None, 1)                 11        \n",
      "=================================================================\n",
      "Total params: 2,221\n",
      "Trainable params: 2,221\n",
      "Non-trainable params: 0\n",
      "_________________________________________________________________\n"
     ]
    }
   ],
   "source": [
    "insurance_model.summary()"
   ],
   "metadata": {
    "collapsed": false,
    "pycharm": {
     "name": "#%%\n"
    }
   }
  },
  {
   "cell_type": "code",
   "execution_count": null,
   "outputs": [],
   "source": [],
   "metadata": {
    "collapsed": false,
    "pycharm": {
     "name": "#%%\n"
    }
   }
  }
 ],
 "metadata": {
  "kernelspec": {
   "name": "gpu_python",
   "language": "python",
   "display_name": "gpu_python"
  },
  "language_info": {
   "codemirror_mode": {
    "name": "ipython",
    "version": 2
   },
   "file_extension": ".py",
   "mimetype": "text/x-python",
   "name": "python",
   "nbconvert_exporter": "python",
   "pygments_lexer": "ipython2",
   "version": "2.7.6"
  }
 },
 "nbformat": 4,
 "nbformat_minor": 0
}